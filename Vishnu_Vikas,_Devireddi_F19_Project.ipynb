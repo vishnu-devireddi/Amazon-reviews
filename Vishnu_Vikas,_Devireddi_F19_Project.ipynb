{
  "nbformat": 4,
  "nbformat_minor": 0,
  "metadata": {
    "colab": {
      "name": "Vishnu Vikas, Devireddi F19 Project.ipynb",
      "provenance": []
    },
    "kernelspec": {
      "name": "python3",
      "display_name": "Python 3"
    },
    "accelerator": "GPU"
  },
  "cells": [
    {
      "cell_type": "code",
      "metadata": {
        "id": "2qfThcUYrCH9",
        "colab_type": "code",
        "colab": {}
      },
      "source": [
        "import pandas as pd\n",
        "import numpy as np\n",
        "import io\n",
        "import sys"
      ],
      "execution_count": 0,
      "outputs": []
    },
    {
      "cell_type": "code",
      "metadata": {
        "id": "Qg6jwwJmrGq8",
        "colab_type": "code",
        "outputId": "fbe9a9d0-f5ef-4ead-e96e-a6ec4b206636",
        "colab": {
          "resources": {
            "http://localhost:8080/nbextensions/google.colab/files.js": {
              "data": "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",
              "ok": true,
              "headers": [
                [
                  "content-type",
                  "application/javascript"
                ]
              ],
              "status": 200,
              "status_text": ""
            }
          },
          "base_uri": "https://localhost:8080/",
          "height": 108
        }
      },
      "source": [
        "from google.colab import  files\n",
        "file = files.upload()"
      ],
      "execution_count": 0,
      "outputs": [
        {
          "output_type": "display_data",
          "data": {
            "text/html": [
              "\n",
              "     <input type=\"file\" id=\"files-aa6ea3f3-55d5-41ed-80c3-3fbe1eab526a\" name=\"files[]\" multiple disabled />\n",
              "     <output id=\"result-aa6ea3f3-55d5-41ed-80c3-3fbe1eab526a\">\n",
              "      Upload widget is only available when the cell has been executed in the\n",
              "      current browser session. Please rerun this cell to enable.\n",
              "      </output>\n",
              "      <script src=\"/nbextensions/google.colab/files.js\"></script> "
            ],
            "text/plain": [
              "<IPython.core.display.HTML object>"
            ]
          },
          "metadata": {
            "tags": []
          }
        },
        {
          "output_type": "stream",
          "text": [
            "Saving 20190928-items.csv to 20190928-items.csv\n",
            "Saving 20190928-reviews.csv to 20190928-reviews.csv\n"
          ],
          "name": "stdout"
        }
      ]
    },
    {
      "cell_type": "code",
      "metadata": {
        "id": "dLsjFUSIrYT-",
        "colab_type": "code",
        "outputId": "35fd0cd7-aa7f-423f-9991-ca4b07577ab6",
        "colab": {
          "base_uri": "https://localhost:8080/",
          "height": 402
        }
      },
      "source": [
        "reviews = pd.read_csv(io.BytesIO(file['20190928-reviews.csv']))\n",
        "items = pd.read_csv(io.BytesIO(file['20190928-items.csv']))\n",
        "reviews"
      ],
      "execution_count": 0,
      "outputs": [
        {
          "output_type": "execute_result",
          "data": {
            "text/html": [
              "<div>\n",
              "<style scoped>\n",
              "    .dataframe tbody tr th:only-of-type {\n",
              "        vertical-align: middle;\n",
              "    }\n",
              "\n",
              "    .dataframe tbody tr th {\n",
              "        vertical-align: top;\n",
              "    }\n",
              "\n",
              "    .dataframe thead th {\n",
              "        text-align: right;\n",
              "    }\n",
              "</style>\n",
              "<table border=\"1\" class=\"dataframe\">\n",
              "  <thead>\n",
              "    <tr style=\"text-align: right;\">\n",
              "      <th></th>\n",
              "      <th>asin</th>\n",
              "      <th>name</th>\n",
              "      <th>rating</th>\n",
              "      <th>date</th>\n",
              "      <th>verified</th>\n",
              "      <th>title</th>\n",
              "      <th>body</th>\n",
              "      <th>helpfulVotes</th>\n",
              "    </tr>\n",
              "  </thead>\n",
              "  <tbody>\n",
              "    <tr>\n",
              "      <th>0</th>\n",
              "      <td>B0000SX2UC</td>\n",
              "      <td>Janet</td>\n",
              "      <td>3</td>\n",
              "      <td>October 11, 2005</td>\n",
              "      <td>False</td>\n",
              "      <td>Def not best, but not worst</td>\n",
              "      <td>I had the Samsung A600 for awhile which is abs...</td>\n",
              "      <td>1.0</td>\n",
              "    </tr>\n",
              "    <tr>\n",
              "      <th>1</th>\n",
              "      <td>B0000SX2UC</td>\n",
              "      <td>Luke Wyatt</td>\n",
              "      <td>1</td>\n",
              "      <td>January 7, 2004</td>\n",
              "      <td>False</td>\n",
              "      <td>Text Messaging Doesn't Work</td>\n",
              "      <td>Due to a software issue between Nokia and Spri...</td>\n",
              "      <td>17.0</td>\n",
              "    </tr>\n",
              "    <tr>\n",
              "      <th>2</th>\n",
              "      <td>B0000SX2UC</td>\n",
              "      <td>Brooke</td>\n",
              "      <td>5</td>\n",
              "      <td>December 30, 2003</td>\n",
              "      <td>False</td>\n",
              "      <td>Love This Phone</td>\n",
              "      <td>This is a great, reliable phone. I also purcha...</td>\n",
              "      <td>5.0</td>\n",
              "    </tr>\n",
              "    <tr>\n",
              "      <th>3</th>\n",
              "      <td>B0000SX2UC</td>\n",
              "      <td>amy m. teague</td>\n",
              "      <td>3</td>\n",
              "      <td>March 18, 2004</td>\n",
              "      <td>False</td>\n",
              "      <td>Love the Phone, BUT...!</td>\n",
              "      <td>I love the phone and all, because I really did...</td>\n",
              "      <td>1.0</td>\n",
              "    </tr>\n",
              "    <tr>\n",
              "      <th>4</th>\n",
              "      <td>B0000SX2UC</td>\n",
              "      <td>tristazbimmer</td>\n",
              "      <td>4</td>\n",
              "      <td>August 28, 2005</td>\n",
              "      <td>False</td>\n",
              "      <td>Great phone service and options, lousy case!</td>\n",
              "      <td>The phone has been great for every purpose it ...</td>\n",
              "      <td>1.0</td>\n",
              "    </tr>\n",
              "    <tr>\n",
              "      <th>...</th>\n",
              "      <td>...</td>\n",
              "      <td>...</td>\n",
              "      <td>...</td>\n",
              "      <td>...</td>\n",
              "      <td>...</td>\n",
              "      <td>...</td>\n",
              "      <td>...</td>\n",
              "      <td>...</td>\n",
              "    </tr>\n",
              "    <tr>\n",
              "      <th>82810</th>\n",
              "      <td>B07WXKWDT2</td>\n",
              "      <td>Prabhakaran</td>\n",
              "      <td>5</td>\n",
              "      <td>September 24, 2019</td>\n",
              "      <td>True</td>\n",
              "      <td>International version. Will require USA adapte...</td>\n",
              "      <td>Best phone at this price.</td>\n",
              "      <td>NaN</td>\n",
              "    </tr>\n",
              "    <tr>\n",
              "      <th>82811</th>\n",
              "      <td>B07WXKWDT2</td>\n",
              "      <td>rvwonder</td>\n",
              "      <td>3</td>\n",
              "      <td>September 17, 2019</td>\n",
              "      <td>False</td>\n",
              "      <td>Be careful of International Version if Using T...</td>\n",
              "      <td>If you intend to use this phone on T Mobile be...</td>\n",
              "      <td>NaN</td>\n",
              "    </tr>\n",
              "    <tr>\n",
              "      <th>82812</th>\n",
              "      <td>B07WXKWDT2</td>\n",
              "      <td>markw707</td>\n",
              "      <td>1</td>\n",
              "      <td>September 8, 2019</td>\n",
              "      <td>False</td>\n",
              "      <td>Moto G7 Play Freezes Every Time I Use It.</td>\n",
              "      <td>Here is my Moto G7 Play complaint: It freezes ...</td>\n",
              "      <td>NaN</td>\n",
              "    </tr>\n",
              "    <tr>\n",
              "      <th>82813</th>\n",
              "      <td>B07WXKWDT2</td>\n",
              "      <td>Amazon Customer</td>\n",
              "      <td>1</td>\n",
              "      <td>September 13, 2019</td>\n",
              "      <td>False</td>\n",
              "      <td>Camera is not good</td>\n",
              "      <td>As far as function works great camera no go wo...</td>\n",
              "      <td>NaN</td>\n",
              "    </tr>\n",
              "    <tr>\n",
              "      <th>82814</th>\n",
              "      <td>B07X51T2VK</td>\n",
              "      <td>Steve H.</td>\n",
              "      <td>4</td>\n",
              "      <td>September 16, 2019</td>\n",
              "      <td>True</td>\n",
              "      <td>Awesome.</td>\n",
              "      <td>What a great phone! Sleek, fast, great soundin...</td>\n",
              "      <td>1.0</td>\n",
              "    </tr>\n",
              "  </tbody>\n",
              "</table>\n",
              "<p>82815 rows × 8 columns</p>\n",
              "</div>"
            ],
            "text/plain": [
              "             asin  ... helpfulVotes\n",
              "0      B0000SX2UC  ...          1.0\n",
              "1      B0000SX2UC  ...         17.0\n",
              "2      B0000SX2UC  ...          5.0\n",
              "3      B0000SX2UC  ...          1.0\n",
              "4      B0000SX2UC  ...          1.0\n",
              "...           ...  ...          ...\n",
              "82810  B07WXKWDT2  ...          NaN\n",
              "82811  B07WXKWDT2  ...          NaN\n",
              "82812  B07WXKWDT2  ...          NaN\n",
              "82813  B07WXKWDT2  ...          NaN\n",
              "82814  B07X51T2VK  ...          1.0\n",
              "\n",
              "[82815 rows x 8 columns]"
            ]
          },
          "metadata": {
            "tags": []
          },
          "execution_count": 4
        }
      ]
    },
    {
      "cell_type": "code",
      "metadata": {
        "id": "DxPe5xHNr1bX",
        "colab_type": "code",
        "outputId": "cf1b5a3d-4d39-4934-ff35-347625620f85",
        "colab": {
          "base_uri": "https://localhost:8080/",
          "height": 168
        }
      },
      "source": [
        "reviews.dtypes"
      ],
      "execution_count": 0,
      "outputs": [
        {
          "output_type": "execute_result",
          "data": {
            "text/plain": [
              "asin             object\n",
              "name             object\n",
              "rating            int64\n",
              "date             object\n",
              "verified           bool\n",
              "title            object\n",
              "body             object\n",
              "helpfulVotes    float64\n",
              "dtype: object"
            ]
          },
          "metadata": {
            "tags": []
          },
          "execution_count": 5
        }
      ]
    },
    {
      "cell_type": "code",
      "metadata": {
        "id": "d_ITQN39sKdl",
        "colab_type": "code",
        "outputId": "2e95da5a-83be-45f1-f644-978a672a2642",
        "colab": {
          "base_uri": "https://localhost:8080/",
          "height": 168
        }
      },
      "source": [
        "reviews.isnull().sum()"
      ],
      "execution_count": 0,
      "outputs": [
        {
          "output_type": "execute_result",
          "data": {
            "text/plain": [
              "asin                0\n",
              "name                5\n",
              "rating              0\n",
              "date                0\n",
              "verified            0\n",
              "title              10\n",
              "body               20\n",
              "helpfulVotes    49681\n",
              "dtype: int64"
            ]
          },
          "metadata": {
            "tags": []
          },
          "execution_count": 6
        }
      ]
    },
    {
      "cell_type": "code",
      "metadata": {
        "id": "WKothyvMsNWn",
        "colab_type": "code",
        "colab": {}
      },
      "source": [
        "reviews = reviews[reviews['title'].notnull()]\n",
        "reviews = reviews[reviews['body'].notnull()]"
      ],
      "execution_count": 0,
      "outputs": []
    },
    {
      "cell_type": "code",
      "metadata": {
        "id": "ZBaGlpYaseSQ",
        "colab_type": "code",
        "outputId": "35bf65b1-0812-49f9-8e95-d0f97826dd39",
        "colab": {
          "base_uri": "https://localhost:8080/",
          "height": 402
        }
      },
      "source": [
        "reviews"
      ],
      "execution_count": 0,
      "outputs": [
        {
          "output_type": "execute_result",
          "data": {
            "text/html": [
              "<div>\n",
              "<style scoped>\n",
              "    .dataframe tbody tr th:only-of-type {\n",
              "        vertical-align: middle;\n",
              "    }\n",
              "\n",
              "    .dataframe tbody tr th {\n",
              "        vertical-align: top;\n",
              "    }\n",
              "\n",
              "    .dataframe thead th {\n",
              "        text-align: right;\n",
              "    }\n",
              "</style>\n",
              "<table border=\"1\" class=\"dataframe\">\n",
              "  <thead>\n",
              "    <tr style=\"text-align: right;\">\n",
              "      <th></th>\n",
              "      <th>asin</th>\n",
              "      <th>name</th>\n",
              "      <th>rating</th>\n",
              "      <th>date</th>\n",
              "      <th>verified</th>\n",
              "      <th>title</th>\n",
              "      <th>body</th>\n",
              "      <th>helpfulVotes</th>\n",
              "    </tr>\n",
              "  </thead>\n",
              "  <tbody>\n",
              "    <tr>\n",
              "      <th>0</th>\n",
              "      <td>B0000SX2UC</td>\n",
              "      <td>Janet</td>\n",
              "      <td>3</td>\n",
              "      <td>October 11, 2005</td>\n",
              "      <td>False</td>\n",
              "      <td>Def not best, but not worst</td>\n",
              "      <td>I had the Samsung A600 for awhile which is abs...</td>\n",
              "      <td>1.0</td>\n",
              "    </tr>\n",
              "    <tr>\n",
              "      <th>1</th>\n",
              "      <td>B0000SX2UC</td>\n",
              "      <td>Luke Wyatt</td>\n",
              "      <td>1</td>\n",
              "      <td>January 7, 2004</td>\n",
              "      <td>False</td>\n",
              "      <td>Text Messaging Doesn't Work</td>\n",
              "      <td>Due to a software issue between Nokia and Spri...</td>\n",
              "      <td>17.0</td>\n",
              "    </tr>\n",
              "    <tr>\n",
              "      <th>2</th>\n",
              "      <td>B0000SX2UC</td>\n",
              "      <td>Brooke</td>\n",
              "      <td>5</td>\n",
              "      <td>December 30, 2003</td>\n",
              "      <td>False</td>\n",
              "      <td>Love This Phone</td>\n",
              "      <td>This is a great, reliable phone. I also purcha...</td>\n",
              "      <td>5.0</td>\n",
              "    </tr>\n",
              "    <tr>\n",
              "      <th>3</th>\n",
              "      <td>B0000SX2UC</td>\n",
              "      <td>amy m. teague</td>\n",
              "      <td>3</td>\n",
              "      <td>March 18, 2004</td>\n",
              "      <td>False</td>\n",
              "      <td>Love the Phone, BUT...!</td>\n",
              "      <td>I love the phone and all, because I really did...</td>\n",
              "      <td>1.0</td>\n",
              "    </tr>\n",
              "    <tr>\n",
              "      <th>4</th>\n",
              "      <td>B0000SX2UC</td>\n",
              "      <td>tristazbimmer</td>\n",
              "      <td>4</td>\n",
              "      <td>August 28, 2005</td>\n",
              "      <td>False</td>\n",
              "      <td>Great phone service and options, lousy case!</td>\n",
              "      <td>The phone has been great for every purpose it ...</td>\n",
              "      <td>1.0</td>\n",
              "    </tr>\n",
              "    <tr>\n",
              "      <th>...</th>\n",
              "      <td>...</td>\n",
              "      <td>...</td>\n",
              "      <td>...</td>\n",
              "      <td>...</td>\n",
              "      <td>...</td>\n",
              "      <td>...</td>\n",
              "      <td>...</td>\n",
              "      <td>...</td>\n",
              "    </tr>\n",
              "    <tr>\n",
              "      <th>82810</th>\n",
              "      <td>B07WXKWDT2</td>\n",
              "      <td>Prabhakaran</td>\n",
              "      <td>5</td>\n",
              "      <td>September 24, 2019</td>\n",
              "      <td>True</td>\n",
              "      <td>International version. Will require USA adapte...</td>\n",
              "      <td>Best phone at this price.</td>\n",
              "      <td>NaN</td>\n",
              "    </tr>\n",
              "    <tr>\n",
              "      <th>82811</th>\n",
              "      <td>B07WXKWDT2</td>\n",
              "      <td>rvwonder</td>\n",
              "      <td>3</td>\n",
              "      <td>September 17, 2019</td>\n",
              "      <td>False</td>\n",
              "      <td>Be careful of International Version if Using T...</td>\n",
              "      <td>If you intend to use this phone on T Mobile be...</td>\n",
              "      <td>NaN</td>\n",
              "    </tr>\n",
              "    <tr>\n",
              "      <th>82812</th>\n",
              "      <td>B07WXKWDT2</td>\n",
              "      <td>markw707</td>\n",
              "      <td>1</td>\n",
              "      <td>September 8, 2019</td>\n",
              "      <td>False</td>\n",
              "      <td>Moto G7 Play Freezes Every Time I Use It.</td>\n",
              "      <td>Here is my Moto G7 Play complaint: It freezes ...</td>\n",
              "      <td>NaN</td>\n",
              "    </tr>\n",
              "    <tr>\n",
              "      <th>82813</th>\n",
              "      <td>B07WXKWDT2</td>\n",
              "      <td>Amazon Customer</td>\n",
              "      <td>1</td>\n",
              "      <td>September 13, 2019</td>\n",
              "      <td>False</td>\n",
              "      <td>Camera is not good</td>\n",
              "      <td>As far as function works great camera no go wo...</td>\n",
              "      <td>NaN</td>\n",
              "    </tr>\n",
              "    <tr>\n",
              "      <th>82814</th>\n",
              "      <td>B07X51T2VK</td>\n",
              "      <td>Steve H.</td>\n",
              "      <td>4</td>\n",
              "      <td>September 16, 2019</td>\n",
              "      <td>True</td>\n",
              "      <td>Awesome.</td>\n",
              "      <td>What a great phone! Sleek, fast, great soundin...</td>\n",
              "      <td>1.0</td>\n",
              "    </tr>\n",
              "  </tbody>\n",
              "</table>\n",
              "<p>82785 rows × 8 columns</p>\n",
              "</div>"
            ],
            "text/plain": [
              "             asin  ... helpfulVotes\n",
              "0      B0000SX2UC  ...          1.0\n",
              "1      B0000SX2UC  ...         17.0\n",
              "2      B0000SX2UC  ...          5.0\n",
              "3      B0000SX2UC  ...          1.0\n",
              "4      B0000SX2UC  ...          1.0\n",
              "...           ...  ...          ...\n",
              "82810  B07WXKWDT2  ...          NaN\n",
              "82811  B07WXKWDT2  ...          NaN\n",
              "82812  B07WXKWDT2  ...          NaN\n",
              "82813  B07WXKWDT2  ...          NaN\n",
              "82814  B07X51T2VK  ...          1.0\n",
              "\n",
              "[82785 rows x 8 columns]"
            ]
          },
          "metadata": {
            "tags": []
          },
          "execution_count": 8
        }
      ]
    },
    {
      "cell_type": "markdown",
      "metadata": {
        "id": "KJCpNtIyVqb1",
        "colab_type": "text"
      },
      "source": [
        "Converting the boolean values to integers."
      ]
    },
    {
      "cell_type": "code",
      "metadata": {
        "id": "xwF8olqVsfZk",
        "colab_type": "code",
        "colab": {}
      },
      "source": [
        "reviews['helpfulVotes'] = reviews['helpfulVotes'].fillna(0)\n",
        "def verified(x):\n",
        "  if x==False:\n",
        "    n=0\n",
        "  else:\n",
        "    n=1\n",
        "  return n\n"
      ],
      "execution_count": 0,
      "outputs": []
    },
    {
      "cell_type": "code",
      "metadata": {
        "id": "Btyz64Eys1n3",
        "colab_type": "code",
        "colab": {}
      },
      "source": [
        "reviews['verified'] = reviews['verified'].map(lambda x: verified(x))"
      ],
      "execution_count": 0,
      "outputs": []
    },
    {
      "cell_type": "code",
      "metadata": {
        "id": "7baHwIG_s7_2",
        "colab_type": "code",
        "outputId": "2be80c20-100e-4e14-9623-4cd408e090bd",
        "colab": {
          "base_uri": "https://localhost:8080/",
          "height": 402
        }
      },
      "source": [
        "reviews"
      ],
      "execution_count": 0,
      "outputs": [
        {
          "output_type": "execute_result",
          "data": {
            "text/html": [
              "<div>\n",
              "<style scoped>\n",
              "    .dataframe tbody tr th:only-of-type {\n",
              "        vertical-align: middle;\n",
              "    }\n",
              "\n",
              "    .dataframe tbody tr th {\n",
              "        vertical-align: top;\n",
              "    }\n",
              "\n",
              "    .dataframe thead th {\n",
              "        text-align: right;\n",
              "    }\n",
              "</style>\n",
              "<table border=\"1\" class=\"dataframe\">\n",
              "  <thead>\n",
              "    <tr style=\"text-align: right;\">\n",
              "      <th></th>\n",
              "      <th>asin</th>\n",
              "      <th>name</th>\n",
              "      <th>rating</th>\n",
              "      <th>date</th>\n",
              "      <th>verified</th>\n",
              "      <th>title</th>\n",
              "      <th>body</th>\n",
              "      <th>helpfulVotes</th>\n",
              "    </tr>\n",
              "  </thead>\n",
              "  <tbody>\n",
              "    <tr>\n",
              "      <th>0</th>\n",
              "      <td>B0000SX2UC</td>\n",
              "      <td>Janet</td>\n",
              "      <td>3</td>\n",
              "      <td>October 11, 2005</td>\n",
              "      <td>0</td>\n",
              "      <td>Def not best, but not worst</td>\n",
              "      <td>I had the Samsung A600 for awhile which is abs...</td>\n",
              "      <td>1.0</td>\n",
              "    </tr>\n",
              "    <tr>\n",
              "      <th>1</th>\n",
              "      <td>B0000SX2UC</td>\n",
              "      <td>Luke Wyatt</td>\n",
              "      <td>1</td>\n",
              "      <td>January 7, 2004</td>\n",
              "      <td>0</td>\n",
              "      <td>Text Messaging Doesn't Work</td>\n",
              "      <td>Due to a software issue between Nokia and Spri...</td>\n",
              "      <td>17.0</td>\n",
              "    </tr>\n",
              "    <tr>\n",
              "      <th>2</th>\n",
              "      <td>B0000SX2UC</td>\n",
              "      <td>Brooke</td>\n",
              "      <td>5</td>\n",
              "      <td>December 30, 2003</td>\n",
              "      <td>0</td>\n",
              "      <td>Love This Phone</td>\n",
              "      <td>This is a great, reliable phone. I also purcha...</td>\n",
              "      <td>5.0</td>\n",
              "    </tr>\n",
              "    <tr>\n",
              "      <th>3</th>\n",
              "      <td>B0000SX2UC</td>\n",
              "      <td>amy m. teague</td>\n",
              "      <td>3</td>\n",
              "      <td>March 18, 2004</td>\n",
              "      <td>0</td>\n",
              "      <td>Love the Phone, BUT...!</td>\n",
              "      <td>I love the phone and all, because I really did...</td>\n",
              "      <td>1.0</td>\n",
              "    </tr>\n",
              "    <tr>\n",
              "      <th>4</th>\n",
              "      <td>B0000SX2UC</td>\n",
              "      <td>tristazbimmer</td>\n",
              "      <td>4</td>\n",
              "      <td>August 28, 2005</td>\n",
              "      <td>0</td>\n",
              "      <td>Great phone service and options, lousy case!</td>\n",
              "      <td>The phone has been great for every purpose it ...</td>\n",
              "      <td>1.0</td>\n",
              "    </tr>\n",
              "    <tr>\n",
              "      <th>...</th>\n",
              "      <td>...</td>\n",
              "      <td>...</td>\n",
              "      <td>...</td>\n",
              "      <td>...</td>\n",
              "      <td>...</td>\n",
              "      <td>...</td>\n",
              "      <td>...</td>\n",
              "      <td>...</td>\n",
              "    </tr>\n",
              "    <tr>\n",
              "      <th>82810</th>\n",
              "      <td>B07WXKWDT2</td>\n",
              "      <td>Prabhakaran</td>\n",
              "      <td>5</td>\n",
              "      <td>September 24, 2019</td>\n",
              "      <td>1</td>\n",
              "      <td>International version. Will require USA adapte...</td>\n",
              "      <td>Best phone at this price.</td>\n",
              "      <td>0.0</td>\n",
              "    </tr>\n",
              "    <tr>\n",
              "      <th>82811</th>\n",
              "      <td>B07WXKWDT2</td>\n",
              "      <td>rvwonder</td>\n",
              "      <td>3</td>\n",
              "      <td>September 17, 2019</td>\n",
              "      <td>0</td>\n",
              "      <td>Be careful of International Version if Using T...</td>\n",
              "      <td>If you intend to use this phone on T Mobile be...</td>\n",
              "      <td>0.0</td>\n",
              "    </tr>\n",
              "    <tr>\n",
              "      <th>82812</th>\n",
              "      <td>B07WXKWDT2</td>\n",
              "      <td>markw707</td>\n",
              "      <td>1</td>\n",
              "      <td>September 8, 2019</td>\n",
              "      <td>0</td>\n",
              "      <td>Moto G7 Play Freezes Every Time I Use It.</td>\n",
              "      <td>Here is my Moto G7 Play complaint: It freezes ...</td>\n",
              "      <td>0.0</td>\n",
              "    </tr>\n",
              "    <tr>\n",
              "      <th>82813</th>\n",
              "      <td>B07WXKWDT2</td>\n",
              "      <td>Amazon Customer</td>\n",
              "      <td>1</td>\n",
              "      <td>September 13, 2019</td>\n",
              "      <td>0</td>\n",
              "      <td>Camera is not good</td>\n",
              "      <td>As far as function works great camera no go wo...</td>\n",
              "      <td>0.0</td>\n",
              "    </tr>\n",
              "    <tr>\n",
              "      <th>82814</th>\n",
              "      <td>B07X51T2VK</td>\n",
              "      <td>Steve H.</td>\n",
              "      <td>4</td>\n",
              "      <td>September 16, 2019</td>\n",
              "      <td>1</td>\n",
              "      <td>Awesome.</td>\n",
              "      <td>What a great phone! Sleek, fast, great soundin...</td>\n",
              "      <td>1.0</td>\n",
              "    </tr>\n",
              "  </tbody>\n",
              "</table>\n",
              "<p>82785 rows × 8 columns</p>\n",
              "</div>"
            ],
            "text/plain": [
              "             asin  ... helpfulVotes\n",
              "0      B0000SX2UC  ...          1.0\n",
              "1      B0000SX2UC  ...         17.0\n",
              "2      B0000SX2UC  ...          5.0\n",
              "3      B0000SX2UC  ...          1.0\n",
              "4      B0000SX2UC  ...          1.0\n",
              "...           ...  ...          ...\n",
              "82810  B07WXKWDT2  ...          0.0\n",
              "82811  B07WXKWDT2  ...          0.0\n",
              "82812  B07WXKWDT2  ...          0.0\n",
              "82813  B07WXKWDT2  ...          0.0\n",
              "82814  B07X51T2VK  ...          1.0\n",
              "\n",
              "[82785 rows x 8 columns]"
            ]
          },
          "metadata": {
            "tags": []
          },
          "execution_count": 11
        }
      ]
    },
    {
      "cell_type": "code",
      "metadata": {
        "id": "QPHKE_4LtKVv",
        "colab_type": "code",
        "colab": {}
      },
      "source": [
        "reviews.helpfulVotes = reviews.helpfulVotes.astype(int)"
      ],
      "execution_count": 0,
      "outputs": []
    },
    {
      "cell_type": "code",
      "metadata": {
        "id": "H-pixU5dtdaX",
        "colab_type": "code",
        "outputId": "b3d1b422-1422-4ed8-c947-fa9d9657356f",
        "colab": {
          "base_uri": "https://localhost:8080/",
          "height": 402
        }
      },
      "source": [
        "reviews"
      ],
      "execution_count": 0,
      "outputs": [
        {
          "output_type": "execute_result",
          "data": {
            "text/html": [
              "<div>\n",
              "<style scoped>\n",
              "    .dataframe tbody tr th:only-of-type {\n",
              "        vertical-align: middle;\n",
              "    }\n",
              "\n",
              "    .dataframe tbody tr th {\n",
              "        vertical-align: top;\n",
              "    }\n",
              "\n",
              "    .dataframe thead th {\n",
              "        text-align: right;\n",
              "    }\n",
              "</style>\n",
              "<table border=\"1\" class=\"dataframe\">\n",
              "  <thead>\n",
              "    <tr style=\"text-align: right;\">\n",
              "      <th></th>\n",
              "      <th>asin</th>\n",
              "      <th>name</th>\n",
              "      <th>rating</th>\n",
              "      <th>date</th>\n",
              "      <th>verified</th>\n",
              "      <th>title</th>\n",
              "      <th>body</th>\n",
              "      <th>helpfulVotes</th>\n",
              "    </tr>\n",
              "  </thead>\n",
              "  <tbody>\n",
              "    <tr>\n",
              "      <th>0</th>\n",
              "      <td>B0000SX2UC</td>\n",
              "      <td>Janet</td>\n",
              "      <td>3</td>\n",
              "      <td>October 11, 2005</td>\n",
              "      <td>0</td>\n",
              "      <td>Def not best, but not worst</td>\n",
              "      <td>I had the Samsung A600 for awhile which is abs...</td>\n",
              "      <td>1</td>\n",
              "    </tr>\n",
              "    <tr>\n",
              "      <th>1</th>\n",
              "      <td>B0000SX2UC</td>\n",
              "      <td>Luke Wyatt</td>\n",
              "      <td>1</td>\n",
              "      <td>January 7, 2004</td>\n",
              "      <td>0</td>\n",
              "      <td>Text Messaging Doesn't Work</td>\n",
              "      <td>Due to a software issue between Nokia and Spri...</td>\n",
              "      <td>17</td>\n",
              "    </tr>\n",
              "    <tr>\n",
              "      <th>2</th>\n",
              "      <td>B0000SX2UC</td>\n",
              "      <td>Brooke</td>\n",
              "      <td>5</td>\n",
              "      <td>December 30, 2003</td>\n",
              "      <td>0</td>\n",
              "      <td>Love This Phone</td>\n",
              "      <td>This is a great, reliable phone. I also purcha...</td>\n",
              "      <td>5</td>\n",
              "    </tr>\n",
              "    <tr>\n",
              "      <th>3</th>\n",
              "      <td>B0000SX2UC</td>\n",
              "      <td>amy m. teague</td>\n",
              "      <td>3</td>\n",
              "      <td>March 18, 2004</td>\n",
              "      <td>0</td>\n",
              "      <td>Love the Phone, BUT...!</td>\n",
              "      <td>I love the phone and all, because I really did...</td>\n",
              "      <td>1</td>\n",
              "    </tr>\n",
              "    <tr>\n",
              "      <th>4</th>\n",
              "      <td>B0000SX2UC</td>\n",
              "      <td>tristazbimmer</td>\n",
              "      <td>4</td>\n",
              "      <td>August 28, 2005</td>\n",
              "      <td>0</td>\n",
              "      <td>Great phone service and options, lousy case!</td>\n",
              "      <td>The phone has been great for every purpose it ...</td>\n",
              "      <td>1</td>\n",
              "    </tr>\n",
              "    <tr>\n",
              "      <th>...</th>\n",
              "      <td>...</td>\n",
              "      <td>...</td>\n",
              "      <td>...</td>\n",
              "      <td>...</td>\n",
              "      <td>...</td>\n",
              "      <td>...</td>\n",
              "      <td>...</td>\n",
              "      <td>...</td>\n",
              "    </tr>\n",
              "    <tr>\n",
              "      <th>82810</th>\n",
              "      <td>B07WXKWDT2</td>\n",
              "      <td>Prabhakaran</td>\n",
              "      <td>5</td>\n",
              "      <td>September 24, 2019</td>\n",
              "      <td>1</td>\n",
              "      <td>International version. Will require USA adapte...</td>\n",
              "      <td>Best phone at this price.</td>\n",
              "      <td>0</td>\n",
              "    </tr>\n",
              "    <tr>\n",
              "      <th>82811</th>\n",
              "      <td>B07WXKWDT2</td>\n",
              "      <td>rvwonder</td>\n",
              "      <td>3</td>\n",
              "      <td>September 17, 2019</td>\n",
              "      <td>0</td>\n",
              "      <td>Be careful of International Version if Using T...</td>\n",
              "      <td>If you intend to use this phone on T Mobile be...</td>\n",
              "      <td>0</td>\n",
              "    </tr>\n",
              "    <tr>\n",
              "      <th>82812</th>\n",
              "      <td>B07WXKWDT2</td>\n",
              "      <td>markw707</td>\n",
              "      <td>1</td>\n",
              "      <td>September 8, 2019</td>\n",
              "      <td>0</td>\n",
              "      <td>Moto G7 Play Freezes Every Time I Use It.</td>\n",
              "      <td>Here is my Moto G7 Play complaint: It freezes ...</td>\n",
              "      <td>0</td>\n",
              "    </tr>\n",
              "    <tr>\n",
              "      <th>82813</th>\n",
              "      <td>B07WXKWDT2</td>\n",
              "      <td>Amazon Customer</td>\n",
              "      <td>1</td>\n",
              "      <td>September 13, 2019</td>\n",
              "      <td>0</td>\n",
              "      <td>Camera is not good</td>\n",
              "      <td>As far as function works great camera no go wo...</td>\n",
              "      <td>0</td>\n",
              "    </tr>\n",
              "    <tr>\n",
              "      <th>82814</th>\n",
              "      <td>B07X51T2VK</td>\n",
              "      <td>Steve H.</td>\n",
              "      <td>4</td>\n",
              "      <td>September 16, 2019</td>\n",
              "      <td>1</td>\n",
              "      <td>Awesome.</td>\n",
              "      <td>What a great phone! Sleek, fast, great soundin...</td>\n",
              "      <td>1</td>\n",
              "    </tr>\n",
              "  </tbody>\n",
              "</table>\n",
              "<p>82785 rows × 8 columns</p>\n",
              "</div>"
            ],
            "text/plain": [
              "             asin  ... helpfulVotes\n",
              "0      B0000SX2UC  ...            1\n",
              "1      B0000SX2UC  ...           17\n",
              "2      B0000SX2UC  ...            5\n",
              "3      B0000SX2UC  ...            1\n",
              "4      B0000SX2UC  ...            1\n",
              "...           ...  ...          ...\n",
              "82810  B07WXKWDT2  ...            0\n",
              "82811  B07WXKWDT2  ...            0\n",
              "82812  B07WXKWDT2  ...            0\n",
              "82813  B07WXKWDT2  ...            0\n",
              "82814  B07X51T2VK  ...            1\n",
              "\n",
              "[82785 rows x 8 columns]"
            ]
          },
          "metadata": {
            "tags": []
          },
          "execution_count": 13
        }
      ]
    },
    {
      "cell_type": "markdown",
      "metadata": {
        "id": "EhCuXtoZVzYt",
        "colab_type": "text"
      },
      "source": [
        "Vectorizing the data."
      ]
    },
    {
      "cell_type": "code",
      "metadata": {
        "id": "Uvg65PAItrG_",
        "colab_type": "code",
        "colab": {}
      },
      "source": [
        "from sklearn.feature_extraction.text import TfidfVectorizer\n",
        "tf = TfidfVectorizer()\n",
        "a = tf.fit_transform(reviews['title'])"
      ],
      "execution_count": 0,
      "outputs": []
    },
    {
      "cell_type": "code",
      "metadata": {
        "id": "r3ZgzDu-ukef",
        "colab_type": "code",
        "colab": {}
      },
      "source": [
        "from sklearn.model_selection import train_test_split\n",
        "x_train,x_test = train_test_split(a,train_size=0.8,random_state=1)\n",
        "y_train,y_test = train_test_split(reviews['rating'],train_size=0.8,random_state=1)"
      ],
      "execution_count": 0,
      "outputs": []
    },
    {
      "cell_type": "markdown",
      "metadata": {
        "id": "F2cB15pxV4vl",
        "colab_type": "text"
      },
      "source": [
        "Training and testing the frist subset of data using Random Forest CLassifier, MultinomialNB and K-Neighbors"
      ]
    },
    {
      "cell_type": "code",
      "metadata": {
        "id": "XCzLroewu9pG",
        "colab_type": "code",
        "outputId": "b067378b-5dff-4284-a50f-66d8fc578a89",
        "colab": {
          "base_uri": "https://localhost:8080/",
          "height": 67
        }
      },
      "source": [
        "from sklearn.ensemble import RandomForestClassifier\n",
        "rf = RandomForestClassifier()\n",
        "rf.fit(x_train,y_train)\n",
        "from sklearn.metrics import accuracy_score as ac\n",
        "g1 = ac(rf.predict(x_test),y_test)"
      ],
      "execution_count": 0,
      "outputs": [
        {
          "output_type": "stream",
          "text": [
            "/usr/local/lib/python3.6/dist-packages/sklearn/ensemble/forest.py:245: FutureWarning: The default value of n_estimators will change from 10 in version 0.20 to 100 in 0.22.\n",
            "  \"10 in version 0.20 to 100 in 0.22.\", FutureWarning)\n"
          ],
          "name": "stderr"
        },
        {
          "output_type": "execute_result",
          "data": {
            "text/plain": [
              "0.7204807634233255"
            ]
          },
          "metadata": {
            "tags": []
          },
          "execution_count": 16
        }
      ]
    },
    {
      "cell_type": "code",
      "metadata": {
        "id": "Gjr3qMeHvMKf",
        "colab_type": "code",
        "outputId": "5babb503-6efe-43c8-92d5-adf46389b0a9",
        "colab": {
          "base_uri": "https://localhost:8080/",
          "height": 34
        }
      },
      "source": [
        "from sklearn.naive_bayes import MultinomialNB\n",
        "nb = MultinomialNB()\n",
        "nb.fit(x_train,y_train)\n",
        "g2 = ac(nb.predict(x_test),y_test)"
      ],
      "execution_count": 0,
      "outputs": [
        {
          "output_type": "execute_result",
          "data": {
            "text/plain": [
              "0.7091260494050855"
            ]
          },
          "metadata": {
            "tags": []
          },
          "execution_count": 17
        }
      ]
    },
    {
      "cell_type": "code",
      "metadata": {
        "id": "AND1r3Xc6tMK",
        "colab_type": "code",
        "outputId": "4430dac0-ce3f-4099-e4d2-62ea2466137d",
        "colab": {
          "base_uri": "https://localhost:8080/",
          "height": 34
        }
      },
      "source": [
        "from sklearn.neighbors import KNeighborsClassifier\n",
        "knn = KNeighborsClassifier(n_neighbors=5)\n",
        "knn.fit(x_train,y_train)\n",
        "g3 = ac(knn.predict(x_test),y_test)"
      ],
      "execution_count": 0,
      "outputs": [
        {
          "output_type": "execute_result",
          "data": {
            "text/plain": [
              "0.6762094582351875"
            ]
          },
          "metadata": {
            "tags": []
          },
          "execution_count": 18
        }
      ]
    },
    {
      "cell_type": "code",
      "metadata": {
        "id": "hOWlIuudZvEe",
        "colab_type": "code",
        "colab": {}
      },
      "source": [
        "print('The accuracy scores of the algorithms are:\\n1. Random Forest:',g1,'\\n2. MultinomialNB:',g2,'\\n3.K-Nearest Neighbors:',g3)"
      ],
      "execution_count": 0,
      "outputs": []
    },
    {
      "cell_type": "code",
      "metadata": {
        "id": "oFC0E50tvetp",
        "colab_type": "code",
        "colab": {}
      },
      "source": [
        "#from sklearn.svm import SVC\n",
        "#svm = SVC(kernel='linear')\n",
        "#svm.fit(x_train,y_train)\n",
        "#ac(svm.predict(x_test),y_test)\n"
      ],
      "execution_count": 0,
      "outputs": []
    },
    {
      "cell_type": "markdown",
      "metadata": {
        "id": "1cdNDDw2Wm0A",
        "colab_type": "text"
      },
      "source": [
        "Training and testing the second subset of data."
      ]
    },
    {
      "cell_type": "code",
      "metadata": {
        "id": "ptnRdJE5v1z9",
        "colab_type": "code",
        "outputId": "4c67ec76-9596-4bb2-db0d-bbd5bce0274c",
        "colab": {
          "base_uri": "https://localhost:8080/",
          "height": 34
        }
      },
      "source": [
        "b = tf.fit_transform(reviews['body'])\n",
        "x_train,x_test = train_test_split(b,train_size=0.8,random_state=1)\n",
        "y_train,y_test = train_test_split(reviews['rating'],train_size=0.8,random_state=1)\n",
        "rf.fit(x_train,y_train)\n",
        "g4 = ac(rf.predict(x_test),y_test)\n",
        "nb.fit(x_train,y_train)\n",
        "g5 = ac(nb.predict(x_test),y_test)"
      ],
      "execution_count": 0,
      "outputs": [
        {
          "output_type": "execute_result",
          "data": {
            "text/plain": [
              "0.6588754001328743"
            ]
          },
          "metadata": {
            "tags": []
          },
          "execution_count": 19
        }
      ]
    },
    {
      "cell_type": "code",
      "metadata": {
        "id": "QIEjg553xwYo",
        "colab_type": "code",
        "outputId": "ab6e36f3-f0a9-476f-e167-39d0e3dba153",
        "colab": {
          "base_uri": "https://localhost:8080/",
          "height": 34
        }
      },
      "source": [
        "print(ac(rf.predict(x_test),y_test),ac(nb.predict(x_test),y_test))"
      ],
      "execution_count": 0,
      "outputs": [
        {
          "output_type": "stream",
          "text": [
            "0.676632240140122 0.6588754001328743\n"
          ],
          "name": "stdout"
        }
      ]
    },
    {
      "cell_type": "code",
      "metadata": {
        "id": "u4oM4Sf4ypxm",
        "colab_type": "code",
        "outputId": "3c85e980-9f79-4dba-c868-6976a1e94773",
        "colab": {
          "base_uri": "https://localhost:8080/",
          "height": 34
        }
      },
      "source": [
        "knn.fit(x_train,y_train)\n",
        "g6 = ac(knn.predict(x_test),y_test)"
      ],
      "execution_count": 0,
      "outputs": [
        {
          "output_type": "execute_result",
          "data": {
            "text/plain": [
              "0.5532403213142477"
            ]
          },
          "metadata": {
            "tags": []
          },
          "execution_count": 21
        }
      ]
    },
    {
      "cell_type": "code",
      "metadata": {
        "id": "qldUQxg8acf4",
        "colab_type": "code",
        "colab": {}
      },
      "source": [
        "print('The accuracy scores of the algorithms are:\\n1. Random Forest:',g4,'\\n2. MultinomialNB:',g5,'\\n3.K-Nearest Neighbors:',g6)"
      ],
      "execution_count": 0,
      "outputs": []
    },
    {
      "cell_type": "markdown",
      "metadata": {
        "id": "oEDlTtKsW0A2",
        "colab_type": "text"
      },
      "source": [
        "Training and testing third subset of data."
      ]
    },
    {
      "cell_type": "code",
      "metadata": {
        "id": "WDVmXxeZy4pq",
        "colab_type": "code",
        "colab": {}
      },
      "source": [
        "from sklearn.decomposition import NMF\n",
        "nmf = NMF(n_components=1)\n",
        "a1 = nmf.fit_transform(a)\n",
        "b1 = nmf.fit_transform(b)"
      ],
      "execution_count": 0,
      "outputs": []
    },
    {
      "cell_type": "code",
      "metadata": {
        "id": "emkjPsOh0KoN",
        "colab_type": "code",
        "outputId": "e674e1ae-5ab3-46d8-805d-43251eca822d",
        "colab": {
          "base_uri": "https://localhost:8080/",
          "height": 34
        }
      },
      "source": [
        "df = pd.DataFrame({'title':a1[:,0],'body':b1[:,0],'verified':reviews['verified'],'votes':reviews['helpfulVotes']})\n",
        "x_train,x_test = train_test_split(df,train_size=0.8,random_state=1)\n",
        "y_train,y_test = train_test_split(reviews['rating'],train_size=0.8,random_state=1)\n",
        "rf.fit(x_train,y_train)\n",
        "nb.fit(x_train,y_train)\n",
        "g7 = ac(rf.predict(x_test),y_test)\n",
        "g8 = ac(nb.predict(x_test),y_test))"
      ],
      "execution_count": 0,
      "outputs": [
        {
          "output_type": "stream",
          "text": [
            "0.5812043244549133 0.5359062632119346\n"
          ],
          "name": "stdout"
        }
      ]
    },
    {
      "cell_type": "code",
      "metadata": {
        "id": "nL6Efxw51tPM",
        "colab_type": "code",
        "outputId": "7f7f9645-ac18-443c-cd87-e6945f0ce8be",
        "colab": {
          "base_uri": "https://localhost:8080/",
          "height": 34
        }
      },
      "source": [
        "knn.fit(x_train,y_train)\n",
        "g9 = ac(knn.predict(x_test),y_test)"
      ],
      "execution_count": 0,
      "outputs": [
        {
          "output_type": "execute_result",
          "data": {
            "text/plain": [
              "0.5008757625173642"
            ]
          },
          "metadata": {
            "tags": []
          },
          "execution_count": 24
        }
      ]
    },
    {
      "cell_type": "code",
      "metadata": {
        "id": "5ANVt7lJanCA",
        "colab_type": "code",
        "colab": {}
      },
      "source": [
        "print('The accuracy scores of the algorithms are:\\n1. Random Forest:',g7,'\\n2. MultinomialNB:',g8,'\\n3.K-Nearest Neighbors:',g9)"
      ],
      "execution_count": 0,
      "outputs": []
    },
    {
      "cell_type": "markdown",
      "metadata": {
        "id": "JwD3G0S_W6V6",
        "colab_type": "text"
      },
      "source": [
        "Training and testing fourth subset of data."
      ]
    },
    {
      "cell_type": "code",
      "metadata": {
        "id": "sgMum0FN3MQE",
        "colab_type": "code",
        "colab": {}
      },
      "source": [
        "nmf1 = NMF(n_components=10)\n",
        "a2 = nmf1.fit_transform(a)\n",
        "b2 = nmf.fit_transform(b)"
      ],
      "execution_count": 0,
      "outputs": []
    },
    {
      "cell_type": "code",
      "metadata": {
        "id": "omuxF9O_3yG7",
        "colab_type": "code",
        "colab": {}
      },
      "source": [
        "df1 = pd.DataFrame(a2)\n",
        "df2 = pd.DataFrame(b2)\n",
        "for i in range(df2.shape[1]):\n",
        "  df1[i+df1.shape[1]] = df2[i]\n",
        "df1[df1.shape[1]+1] = reviews['verified']\n",
        "df1[df1.shape[1]+1] = reviews['verified']\n",
        "df1\n",
        "df1 = df1.fillna(0)"
      ],
      "execution_count": 0,
      "outputs": []
    },
    {
      "cell_type": "code",
      "metadata": {
        "id": "ky2hycCV4pEG",
        "colab_type": "code",
        "outputId": "d11e5779-4843-45db-c5dd-9a2bcd28995e",
        "colab": {
          "base_uri": "https://localhost:8080/",
          "height": 34
        }
      },
      "source": [
        "x_train,x_test = train_test_split(df1,train_size=0.8,random_state=1)\n",
        "y_train,y_test = train_test_split(reviews['rating'],train_size=0.8,random_state=1)\n",
        "rf.fit(x_train,y_train)\n",
        "nb.fit(x_train,y_train)\n",
        "knn.fit(x_train,y_train)\n",
        "g10 = ac(rf.predict(x_test),y_test)\n",
        "g11 = ac(nb.predict(x_test),y_test)\n",
        "g12 = ac(knn.predict(x_test),y_test))"
      ],
      "execution_count": 0,
      "outputs": [
        {
          "output_type": "stream",
          "text": [
            "0.6680558072114513 0.5414628253910733 0.6086247508606631\n"
          ],
          "name": "stdout"
        }
      ]
    },
    {
      "cell_type": "code",
      "metadata": {
        "id": "tEHDBMREazcR",
        "colab_type": "code",
        "colab": {}
      },
      "source": [
        "print('The accuracy scores of the algorithms are:\\n1. Random Forest:',g10,'\\n2. MultinomialNB:',g11,'\\n3.K-Nearest Neighbors:',g12)"
      ],
      "execution_count": 0,
      "outputs": []
    },
    {
      "cell_type": "markdown",
      "metadata": {
        "id": "hjXReBNHXc-g",
        "colab_type": "text"
      },
      "source": [
        "**Topic Modeling**"
      ]
    },
    {
      "cell_type": "code",
      "metadata": {
        "id": "bcJzaj7T77X9",
        "colab_type": "code",
        "colab": {}
      },
      "source": [
        "from nltk.corpus import stopwords\n",
        "from nltk.tokenize import word_tokenize\n",
        "from sklearn.feature_extraction.text import CountVectorizer, TfidfVectorizer\n",
        "from sklearn.decomposition import NMF, LatentDirichletAllocation, PCA\n",
        "from sklearn.preprocessing import normalize\n",
        "import pickle"
      ],
      "execution_count": 0,
      "outputs": []
    },
    {
      "cell_type": "code",
      "metadata": {
        "id": "I05rIz6C9lbm",
        "colab_type": "code",
        "colab": {}
      },
      "source": [
        "def top_words(model, feature_names, n_top_words):\n",
        "    for topic_idx, topic in enumerate(model.components_):\n",
        "        message = \"Topic #%d: \" % topic_idx\n",
        "        message += \" \".join([feature_names[i]\n",
        "                             for i in topic.argsort()[:-n_top_words - 1:-1]])\n",
        "        print(message)\n",
        "    print()"
      ],
      "execution_count": 0,
      "outputs": []
    },
    {
      "cell_type": "markdown",
      "metadata": {
        "id": "ATQ4_49-Xl8Z",
        "colab_type": "text"
      },
      "source": [
        "**LSA**"
      ]
    },
    {
      "cell_type": "code",
      "metadata": {
        "id": "GkNUCXyC_gkC",
        "colab_type": "code",
        "colab": {}
      },
      "source": [
        "tf_idf = TfidfVectorizer(stop_words='english', max_features=1000)\n",
        "data_tf_idf = tf_idf.fit_transform(reviews['body'])\n",
        "nmf = NMF(n_components=30, random_state=1,\n",
        "          alpha=.1, l1_ratio=.5)\n",
        "nmf.fit(data_tf_idf)\n",
        "nmf_data=nmf.transform(data_tf_idf)"
      ],
      "execution_count": 0,
      "outputs": []
    },
    {
      "cell_type": "code",
      "metadata": {
        "id": "E4Du0EaH_q64",
        "colab_type": "code",
        "outputId": "39af4e2d-5e77-4adb-c129-f874e9e30704",
        "colab": {
          "base_uri": "https://localhost:8080/",
          "height": 538
        }
      },
      "source": [
        "top_words(nmf, tf_idf.get_feature_names(), 10)"
      ],
      "execution_count": 0,
      "outputs": [
        {
          "output_type": "stream",
          "text": [
            "Topic #0: camera samsung phones really iphone better time android ve quality\n",
            "Topic #1: good quality really value deal pretty camera overall looks cellphone\n",
            "Topic #2: great deal value camera phone quality looks shape features worked\n",
            "Topic #3: love absolutely new thank note features size big phone galaxy\n",
            "Topic #4: like new brand looks looked refurbished scratches really box look\n",
            "Topic #5: excellent quality camera condition value service thanks recommend smartphone performance\n",
            "Topic #6: phone cell received recommend amazing problems money got refurbished purchased\n",
            "Topic #7: works perfectly fine looks issues problems time scratches mobile arrived\n",
            "Topic #8: product described seller service recommend satisfied received time arrived thanks\n",
            "Topic #9: nice really camera features phone big thanks smartphone size looking\n",
            "Topic #10: perfect size thanks thank condition gift absolutely arrived exactly looks\n",
            "Topic #11: el la muy que en es lo teléfono se buen\n",
            "Topic #12: battery life charge long day hours lasts bad days hold\n",
            "Topic #13: sim card verizon worked sd mobile did come store old\n",
            "Topic #14: price quality amazing worth reasonable beat value low decent better\n",
            "Topic #15: work doesn does did didn return charger verizon network mobile\n",
            "Topic #16: far problems issues ve haven complaints pleased loving weeks week\n",
            "Topic #17: working stopped months fine month perfectly days bought stop weeks\n",
            "Topic #18: best ve owned market phones smartphone phone android camera used\n",
            "Topic #19: awesome camera thanks features super phone life pictures quality color\n",
            "Topic #20: condition came charger arrived scratches box described new time original\n",
            "Topic #21: happy purchase bought thank wife loves really son new got\n",
            "Topic #22: excelente producto teléfono buen muy lo 100 todo super media\n",
            "Topic #23: just described fine got wanted exactly needed worked received today\n",
            "Topic #24: buy don money seller refurbished definitely worth new amazon months\n",
            "Topic #25: use easy set personal features simple need able apps day\n",
            "Topic #26: unlocked verizon locked advertised mobile carrier network wasn sprint said\n",
            "Topic #27: fast shipping amazing delivery super camera thank beautiful really came\n",
            "Topic #28: screen protector scratches touch case cracked glass big black scratch\n",
            "Topic #29: expected better exactly arrived earlier worked came faster delivered thank\n",
            "\n"
          ],
          "name": "stdout"
        }
      ]
    },
    {
      "cell_type": "code",
      "metadata": {
        "id": "sQnjPZrc_xYM",
        "colab_type": "code",
        "outputId": "d444dfbe-0e4e-477d-c160-1726cce8d097",
        "colab": {
          "base_uri": "https://localhost:8080/",
          "height": 34
        }
      },
      "source": [
        "np.argmax(nmf_data[0])"
      ],
      "execution_count": 0,
      "outputs": [
        {
          "output_type": "execute_result",
          "data": {
            "text/plain": [
              "0"
            ]
          },
          "metadata": {
            "tags": []
          },
          "execution_count": 32
        }
      ]
    },
    {
      "cell_type": "markdown",
      "metadata": {
        "id": "DVPxdmMkXqoo",
        "colab_type": "text"
      },
      "source": [
        "**PLSA**"
      ]
    },
    {
      "cell_type": "code",
      "metadata": {
        "id": "lugIyWe__3-q",
        "colab_type": "code",
        "colab": {}
      },
      "source": [
        "tf_idf = TfidfVectorizer(stop_words='english', max_features=1000)\n",
        "data_tf_idf = tf_idf.fit_transform(reviews['body'])\n",
        "nmf = NMF(n_components=30, random_state=1, beta_loss='kullback-leibler',\n",
        "          solver='mu', alpha=.1, l1_ratio=.5)\n",
        "nmf_data=nmf.fit(data_tf_idf)"
      ],
      "execution_count": 0,
      "outputs": []
    },
    {
      "cell_type": "code",
      "metadata": {
        "id": "aHY4lf_3ADlk",
        "colab_type": "code",
        "outputId": "a5aa715d-cfdf-4d5f-eced-c45bf3f81481",
        "colab": {
          "base_uri": "https://localhost:8080/",
          "height": 538
        }
      },
      "source": [
        "top_words(nmf, tf_idf.get_feature_names(), 10)"
      ],
      "execution_count": 0,
      "outputs": [
        {
          "output_type": "stream",
          "text": [
            "Topic #0: phone like great don getting going thing lot make really\n",
            "Topic #1: good pretty overall value choice really performance complain stuff real\n",
            "Topic #2: great works deal value shape thanks freezes freezing friend friendly\n",
            "Topic #3: love great absolutely color thank learning zero function friendly friends\n",
            "Topic #4: new like works brand looks perfectly refurbished looked scratches fine\n",
            "Topic #5: product excellent seller recommend service 100 highly satisfied customer recommended\n",
            "Topic #6: phone cell perfectly cricket stolen shape metro pcs activated tmobile\n",
            "Topic #7: battery camera screen day apps life android 10 using works\n",
            "Topic #8: received return phone disappointed seller said service amazon tried sent\n",
            "Topic #9: nice big really little looking clean wonderful cheap design durable\n",
            "Topic #10: perfect condition thank arrived size absolutely needs near early fits\n",
            "Topic #11: el muy la en lo es que buen bueno se\n",
            "Topic #12: battery phone life charge day long hours days charged lasts\n",
            "Topic #13: did new worked box didn come problem right charger refurbished\n",
            "Topic #14: price samsung galaxy note worth definitely pleased expectations looking recommend\n",
            "Topic #15: work does doesn did didn need network mobile compatible 4g\n",
            "Topic #16: far card sim verizon mobile issues complaints able problems activate\n",
            "Topic #17: working months fine problems issues phone month stopped days charging\n",
            "Topic #18: best phones android ve used owned samsung google smartphone camera\n",
            "Topic #19: camera awesome features pictures pretty fingerprint clear cool beautiful takes\n",
            "Topic #20: came charger arrived scratches box phone original satisfied broken screen\n",
            "Topic #21: happy bought purchase really loves phone gift loved daughter wife\n",
            "Topic #22: excelente producto 10 stylus xiaomi total nfc premium pen g6\n",
            "Topic #23: just time described got exactly thanks needed wanted iphone better\n",
            "Topic #24: money bought amazon phones months buying don cell pay cellphone\n",
            "Topic #25: ok phone use apps calls easy memory need speaker old\n",
            "Topic #26: use unlocked easy advertised locked carrier mobile set unlock features\n",
            "Topic #27: fast amazing quality device delivery item shipping super beautiful picture\n",
            "Topic #28: screen got expected just case touch black protector cracked small\n",
            "Topic #29: buy better iphone phone don bad recommend apple definitely way\n",
            "\n"
          ],
          "name": "stdout"
        }
      ]
    },
    {
      "cell_type": "markdown",
      "metadata": {
        "id": "c4Jo-lJoXvNZ",
        "colab_type": "text"
      },
      "source": [
        "**LDA**"
      ]
    },
    {
      "cell_type": "code",
      "metadata": {
        "id": "TXI8E4OXALYj",
        "colab_type": "code",
        "colab": {}
      },
      "source": [
        "count = CountVectorizer(stop_words='english', max_features=1000)\n",
        "data_count = count.fit_transform(reviews['body'])\n",
        "lda = LatentDirichletAllocation(n_components=25, max_iter=5, \n",
        "                                learning_method='online', random_state=1)\n",
        "lda_data=lda.fit_transform(data_count)"
      ],
      "execution_count": 0,
      "outputs": []
    },
    {
      "cell_type": "code",
      "metadata": {
        "id": "tXWbzfeuAQZ7",
        "colab_type": "code",
        "outputId": "a542b82d-d7f4-45c4-a1b9-5e64a4344331",
        "colab": {
          "base_uri": "https://localhost:8080/",
          "height": 454
        }
      },
      "source": [
        "top_words(lda, count.get_feature_names(), 10)"
      ],
      "execution_count": 0,
      "outputs": [
        {
          "output_type": "stream",
          "text": [
            "Topic #0: new phone came like charger brand box refurbished looks scratches\n",
            "Topic #1: great works phone excellent product recommend easy use highly s10\n",
            "Topic #2: love phone price great awesome money wasn s5 waste delivery\n",
            "Topic #3: phone issues warranty weeks couldn worked tried talk time straight\n",
            "Topic #4: camera fast phone amazing really price best better quality super\n",
            "Topic #5: moto nice el la muy que en lo se described\n",
            "Topic #6: sim card unlocked phone mobile sprint locked work sd unlock\n",
            "Topic #7: screen pixel use fingerprint photos usb case protector mode display\n",
            "Topic #8: phone ve phones buy don nokia just time want sony\n",
            "Topic #9: far happy phone problems bought started s7 old cell s9\n",
            "Topic #10: perfect condition purchase phone received works quick completely amazon price\n",
            "Topic #11: android apps google device app version apple update performance software\n",
            "Topic #12: phone verizon service network customer store took absolutely data motorola\n",
            "Topic #13: expected ok quality item little scratch gift beautiful usa expectations\n",
            "Topic #14: seller phone work didn product disappointed doesn device carrier bought\n",
            "Topic #15: good return phone pleased order runs pie need basic needed\n",
            "Topic #16: problem issue excelente reset quickly hour fix won way cheaper\n",
            "Topic #17: features big sound bluetooth volume size smartphone calling flagship button\n",
            "Topic #18: samsung galaxy bad edge picture let 10 installed thing s6\n",
            "Topic #19: phone screen like just camera iphone great don really use\n",
            "Topic #20: working phone amazon screen months huawei sent buy replacement stopped\n",
            "Topic #21: battery life day hours long returned fully broken power charged\n",
            "Topic #22: phone note charge charging just perfectly got works fast new\n",
            "Topic #23: work phone does calls wifi make settings use turn charge\n",
            "Topic #24: support phones es smart jack loved s8 glad tech son\n",
            "\n"
          ],
          "name": "stdout"
        }
      ]
    },
    {
      "cell_type": "code",
      "metadata": {
        "id": "ZxIhgnkoAczS",
        "colab_type": "code",
        "outputId": "203aa7d5-2530-4926-ee68-cbdbf33374ec",
        "colab": {
          "base_uri": "https://localhost:8080/",
          "height": 34
        }
      },
      "source": [
        "np.argmax(lda_data[5])"
      ],
      "execution_count": 0,
      "outputs": [
        {
          "output_type": "execute_result",
          "data": {
            "text/plain": [
              "7"
            ]
          },
          "metadata": {
            "tags": []
          },
          "execution_count": 37
        }
      ]
    },
    {
      "cell_type": "markdown",
      "metadata": {
        "id": "zoj3z80wX3gn",
        "colab_type": "text"
      },
      "source": [
        "Training and testing the first subset of data using Neural Networks."
      ]
    },
    {
      "cell_type": "code",
      "metadata": {
        "id": "Lb-9EORFAnos",
        "colab_type": "code",
        "colab": {}
      },
      "source": [
        "import keras\n",
        "from keras.models import Sequential\n",
        "from keras.layers import Dense, Dropout, Flatten, Embedding, LSTM, GRU, Input\n",
        "from keras.layers import Conv2D, MaxPooling2D, Conv1D,MaxPooling1D\n",
        "from keras import backend as K\n",
        "from keras.preprocessing.text import Tokenizer, hashing_trick\n",
        "from keras.preprocessing.sequence import pad_sequences\n",
        "import tensorflow as tf"
      ],
      "execution_count": 0,
      "outputs": []
    },
    {
      "cell_type": "code",
      "metadata": {
        "id": "0lpWhMZaGo6r",
        "colab_type": "code",
        "outputId": "245c90da-8666-491d-aa12-d0f5b899bfde",
        "colab": {
          "base_uri": "https://localhost:8080/",
          "height": 34
        }
      },
      "source": [
        "device_name = tf.test.gpu_device_name()\n",
        "if device_name != '/device:GPU:0':\n",
        "    raise SystemError('GPU device not found')\n",
        "print('Found GPU at: {}'.format(device_name))"
      ],
      "execution_count": 0,
      "outputs": [
        {
          "output_type": "stream",
          "text": [
            "Found GPU at: /device:GPU:0\n"
          ],
          "name": "stdout"
        }
      ]
    },
    {
      "cell_type": "code",
      "metadata": {
        "id": "1W9WzAFeG1jT",
        "colab_type": "code",
        "colab": {}
      },
      "source": [
        "from sklearn.model_selection import train_test_split\n",
        "x_train,x_test = train_test_split(reviews['body'],train_size=0.8,random_state=1)\n",
        "y_train,y_test = train_test_split(reviews['rating'],train_size=0.8,random_state=1)"
      ],
      "execution_count": 0,
      "outputs": []
    },
    {
      "cell_type": "code",
      "metadata": {
        "id": "rgyrqRP7Hc6R",
        "colab_type": "code",
        "outputId": "558ffd89-fde9-4f0c-ba03-bc763cb3c10c",
        "colab": {
          "base_uri": "https://localhost:8080/",
          "height": 218
        }
      },
      "source": [
        "x_train"
      ],
      "execution_count": 0,
      "outputs": [
        {
          "output_type": "execute_result",
          "data": {
            "text/plain": [
              "53566                                                 good\n",
              "32975    it broke the display that's under the exterior...\n",
              "46861    This is an excellent phone which far exceeded ...\n",
              "45368                    Not happy but at least it’s cheap\n",
              "23459    This phone appeared to arrive NEW, factory shr...\n",
              "                               ...                        \n",
              "21444    Don't buy this iPhone plus. Touch screen is no...\n",
              "73374    Well I gotta say I'm really surprised with wha...\n",
              "50074    This phone shipped with Oreo 8.1. The mic woul...\n",
              "5192           Came as described! Saved $70 not buying new\n",
              "77734    Awesome for everyday use. Might be a little sm...\n",
              "Name: body, Length: 66228, dtype: object"
            ]
          },
          "metadata": {
            "tags": []
          },
          "execution_count": 41
        }
      ]
    },
    {
      "cell_type": "markdown",
      "metadata": {
        "id": "JcAWcv3cYP3m",
        "colab_type": "text"
      },
      "source": [
        "Cleaning the text in the 'body' column in the 'reviews' dataframe for tokenizing."
      ]
    },
    {
      "cell_type": "code",
      "metadata": {
        "id": "tb5pR9DwMhvN",
        "colab_type": "code",
        "colab": {}
      },
      "source": [
        "import re\n",
        "def replace(x):\n",
        "  n = re.sub(r'\\d+','',x)\n",
        "  return n\n"
      ],
      "execution_count": 0,
      "outputs": []
    },
    {
      "cell_type": "code",
      "metadata": {
        "id": "lC5wM4FUM4a0",
        "colab_type": "code",
        "outputId": "c39295a2-e1a7-466e-c3d7-7602855ac937",
        "colab": {
          "base_uri": "https://localhost:8080/",
          "height": 218
        }
      },
      "source": [
        "x_train.map(lambda x: replace(x))\n",
        "x_test.map(lambda x: replace(x))"
      ],
      "execution_count": 0,
      "outputs": [
        {
          "output_type": "execute_result",
          "data": {
            "text/plain": [
              "79022    RAM needs to be bigger. Internal Storage could...\n",
              "47036    Duel SIM phone. Works well on T-Mobile and I u...\n",
              "20568                                   slow as.... f.....\n",
              "32461    Horrible! I waited for almost a week to receiv...\n",
              "8292      Best phone available, until the Note  comes out.\n",
              "                               ...                        \n",
              "17758    Product was not as described. Returned it. It ...\n",
              "77193                                          Reliability\n",
              "64088    This is a nice budget phone !!!! So far i have...\n",
              "2937                                             Very best\n",
              "5315     El telefono se ve muy Bonito lo malo y lo peor...\n",
              "Name: body, Length: 16557, dtype: object"
            ]
          },
          "metadata": {
            "tags": []
          },
          "execution_count": 62
        }
      ]
    },
    {
      "cell_type": "code",
      "metadata": {
        "id": "Sjw9R7MNM658",
        "colab_type": "code",
        "colab": {}
      },
      "source": [
        "tokenizer = Tokenizer(num_words=2000)\n",
        "tokenizer.fit_on_texts(x_train)\n",
        "train_X = pad_sequences(tokenizer.texts_to_sequences(x_train), 33)\n",
        "test_X = pad_sequences(tokenizer.texts_to_sequences(x_test),33)\n",
        "train_Y=keras.utils.to_categorical(y_train)\n",
        "test_Y=keras.utils.to_categorical(y_test)"
      ],
      "execution_count": 0,
      "outputs": []
    },
    {
      "cell_type": "code",
      "metadata": {
        "id": "vD44TQm8OjEb",
        "colab_type": "code",
        "colab": {}
      },
      "source": [
        "embed_dim = 128\n",
        "lstm_out = 196\n",
        "max_features = 2000\n",
        "model = Sequential()\n",
        "model.add(Embedding(tokenizer.num_words, tokenizer.num_words, input_length=33))\n",
        "model.add(Conv1D(66, kernel_size=3, activation='relu'))\n",
        "model.add(Conv1D(66, kernel_size=3, activation='relu'))\n",
        "model.add(MaxPooling1D(pool_size=2))\n",
        "model.add(Dropout(.5))\n",
        "model.add(Conv1D(33, kernel_size=3, activation='relu'))\n",
        "model.add(MaxPooling1D(pool_size=2))\n",
        "model.add(Flatten())\n",
        "model.add(Dropout(.5))\n",
        "model.add(Dense(6,activation='softmax'))\n",
        "model.compile(loss = 'categorical_crossentropy', optimizer='adam',metrics = ['accuracy'])"
      ],
      "execution_count": 0,
      "outputs": []
    },
    {
      "cell_type": "code",
      "metadata": {
        "id": "PFhxl7MvP1Ci",
        "colab_type": "code",
        "outputId": "98316f83-780c-4c42-c4c2-7608a0e99c2b",
        "colab": {
          "base_uri": "https://localhost:8080/",
          "height": 1000
        }
      },
      "source": [
        "batch_size = 32\n",
        "model.fit( train_X,#.reshape((train_X.shape[0], train_X.shape[1],1)), \n",
        "           train_Y,\n",
        "           epochs = 100, \n",
        "           batch_size=batch_size, \n",
        "           verbose = 1, \n",
        "           validation_data=(test_X, test_Y))"
      ],
      "execution_count": 0,
      "outputs": [
        {
          "output_type": "stream",
          "text": [
            "WARNING:tensorflow:From /usr/local/lib/python3.6/dist-packages/tensorflow_core/python/ops/math_grad.py:1424: where (from tensorflow.python.ops.array_ops) is deprecated and will be removed in a future version.\n",
            "Instructions for updating:\n",
            "Use tf.where in 2.0, which has the same broadcast rule as np.where\n",
            "WARNING:tensorflow:From /usr/local/lib/python3.6/dist-packages/keras/backend/tensorflow_backend.py:1033: The name tf.assign_add is deprecated. Please use tf.compat.v1.assign_add instead.\n",
            "\n",
            "WARNING:tensorflow:From /usr/local/lib/python3.6/dist-packages/keras/backend/tensorflow_backend.py:1020: The name tf.assign is deprecated. Please use tf.compat.v1.assign instead.\n",
            "\n",
            "WARNING:tensorflow:From /usr/local/lib/python3.6/dist-packages/keras/backend/tensorflow_backend.py:3005: The name tf.Session is deprecated. Please use tf.compat.v1.Session instead.\n",
            "\n",
            "Train on 66228 samples, validate on 16557 samples\n",
            "Epoch 1/100\n",
            "WARNING:tensorflow:From /usr/local/lib/python3.6/dist-packages/keras/backend/tensorflow_backend.py:190: The name tf.get_default_session is deprecated. Please use tf.compat.v1.get_default_session instead.\n",
            "\n",
            "WARNING:tensorflow:From /usr/local/lib/python3.6/dist-packages/keras/backend/tensorflow_backend.py:197: The name tf.ConfigProto is deprecated. Please use tf.compat.v1.ConfigProto instead.\n",
            "\n",
            "WARNING:tensorflow:From /usr/local/lib/python3.6/dist-packages/keras/backend/tensorflow_backend.py:207: The name tf.global_variables is deprecated. Please use tf.compat.v1.global_variables instead.\n",
            "\n",
            "WARNING:tensorflow:From /usr/local/lib/python3.6/dist-packages/keras/backend/tensorflow_backend.py:216: The name tf.is_variable_initialized is deprecated. Please use tf.compat.v1.is_variable_initialized instead.\n",
            "\n",
            "WARNING:tensorflow:From /usr/local/lib/python3.6/dist-packages/keras/backend/tensorflow_backend.py:223: The name tf.variables_initializer is deprecated. Please use tf.compat.v1.variables_initializer instead.\n",
            "\n",
            "66228/66228 [==============================] - 42s 629us/step - loss: 1.0176 - acc: 0.6437 - val_loss: 0.9288 - val_acc: 0.6719\n",
            "Epoch 2/100\n",
            "66228/66228 [==============================] - 35s 524us/step - loss: 0.9154 - acc: 0.6763 - val_loss: 0.9028 - val_acc: 0.6747\n",
            "Epoch 3/100\n",
            "66228/66228 [==============================] - 35s 523us/step - loss: 0.8865 - acc: 0.6855 - val_loss: 0.9075 - val_acc: 0.6793\n",
            "Epoch 4/100\n",
            "66228/66228 [==============================] - 35s 527us/step - loss: 0.8665 - acc: 0.6899 - val_loss: 0.9015 - val_acc: 0.6805\n",
            "Epoch 5/100\n",
            "66228/66228 [==============================] - 35s 522us/step - loss: 0.8458 - acc: 0.6968 - val_loss: 0.8997 - val_acc: 0.6793\n",
            "Epoch 6/100\n",
            "66228/66228 [==============================] - 35s 522us/step - loss: 0.8276 - acc: 0.7017 - val_loss: 0.8917 - val_acc: 0.6803\n",
            "Epoch 7/100\n",
            "66228/66228 [==============================] - 35s 523us/step - loss: 0.8134 - acc: 0.7055 - val_loss: 0.8872 - val_acc: 0.6834\n",
            "Epoch 8/100\n",
            "66228/66228 [==============================] - 35s 524us/step - loss: 0.7970 - acc: 0.7101 - val_loss: 0.9187 - val_acc: 0.6762\n",
            "Epoch 9/100\n",
            "66228/66228 [==============================] - 35s 528us/step - loss: 0.7797 - acc: 0.7148 - val_loss: 0.8902 - val_acc: 0.6809\n",
            "Epoch 10/100\n",
            "66228/66228 [==============================] - 34s 521us/step - loss: 0.7667 - acc: 0.7185 - val_loss: 0.8986 - val_acc: 0.6865\n",
            "Epoch 11/100\n",
            "66228/66228 [==============================] - 35s 522us/step - loss: 0.7495 - acc: 0.7269 - val_loss: 0.9032 - val_acc: 0.6809\n",
            "Epoch 12/100\n",
            "66228/66228 [==============================] - 35s 524us/step - loss: 0.7367 - acc: 0.7296 - val_loss: 0.9185 - val_acc: 0.6790\n",
            "Epoch 13/100\n",
            "66228/66228 [==============================] - 35s 522us/step - loss: 0.7208 - acc: 0.7352 - val_loss: 0.9174 - val_acc: 0.6795\n",
            "Epoch 14/100\n",
            "66228/66228 [==============================] - 35s 523us/step - loss: 0.7081 - acc: 0.7404 - val_loss: 0.9344 - val_acc: 0.6758\n",
            "Epoch 15/100\n",
            "66228/66228 [==============================] - 35s 522us/step - loss: 0.6923 - acc: 0.7436 - val_loss: 0.9677 - val_acc: 0.6725\n",
            "Epoch 16/100\n",
            "66228/66228 [==============================] - 34s 519us/step - loss: 0.6779 - acc: 0.7473 - val_loss: 0.9618 - val_acc: 0.6777\n",
            "Epoch 17/100\n",
            "66228/66228 [==============================] - 34s 520us/step - loss: 0.6649 - acc: 0.7526 - val_loss: 1.0185 - val_acc: 0.6664\n",
            "Epoch 18/100\n",
            "66228/66228 [==============================] - 35s 526us/step - loss: 0.6516 - acc: 0.7587 - val_loss: 0.9873 - val_acc: 0.6736\n",
            "Epoch 19/100\n",
            "66228/66228 [==============================] - 35s 523us/step - loss: 0.6384 - acc: 0.7617 - val_loss: 1.0145 - val_acc: 0.6687\n",
            "Epoch 20/100\n",
            "66228/66228 [==============================] - 35s 523us/step - loss: 0.6296 - acc: 0.7673 - val_loss: 1.0313 - val_acc: 0.6752\n",
            "Epoch 21/100\n",
            "66228/66228 [==============================] - 35s 527us/step - loss: 0.6186 - acc: 0.7712 - val_loss: 1.0646 - val_acc: 0.6697\n",
            "Epoch 22/100\n",
            "66228/66228 [==============================] - 34s 521us/step - loss: 0.6058 - acc: 0.7760 - val_loss: 1.0649 - val_acc: 0.6639\n",
            "Epoch 23/100\n",
            "66228/66228 [==============================] - 35s 523us/step - loss: 0.5991 - acc: 0.7779 - val_loss: 1.1005 - val_acc: 0.6659\n",
            "Epoch 24/100\n",
            "66228/66228 [==============================] - 35s 522us/step - loss: 0.5892 - acc: 0.7830 - val_loss: 1.0883 - val_acc: 0.6710\n",
            "Epoch 25/100\n",
            "66228/66228 [==============================] - 35s 521us/step - loss: 0.5732 - acc: 0.7875 - val_loss: 1.1207 - val_acc: 0.6611\n",
            "Epoch 26/100\n",
            "66228/66228 [==============================] - 35s 523us/step - loss: 0.5679 - acc: 0.7901 - val_loss: 1.1572 - val_acc: 0.6687\n",
            "Epoch 27/100\n",
            "66228/66228 [==============================] - 35s 522us/step - loss: 0.5618 - acc: 0.7925 - val_loss: 1.1586 - val_acc: 0.6644\n",
            "Epoch 28/100\n",
            "66228/66228 [==============================] - 35s 522us/step - loss: 0.5535 - acc: 0.7957 - val_loss: 1.2461 - val_acc: 0.6720\n",
            "Epoch 29/100\n",
            "66228/66228 [==============================] - 35s 521us/step - loss: 0.5470 - acc: 0.8015 - val_loss: 1.1673 - val_acc: 0.6640\n",
            "Epoch 30/100\n",
            "66228/66228 [==============================] - 35s 523us/step - loss: 0.5352 - acc: 0.8044 - val_loss: 1.2320 - val_acc: 0.6632\n",
            "Epoch 31/100\n",
            "66228/66228 [==============================] - 35s 522us/step - loss: 0.5265 - acc: 0.8073 - val_loss: 1.2649 - val_acc: 0.6620\n",
            "Epoch 32/100\n",
            "66228/66228 [==============================] - 34s 521us/step - loss: 0.5241 - acc: 0.8097 - val_loss: 1.2514 - val_acc: 0.6642\n",
            "Epoch 33/100\n",
            "66228/66228 [==============================] - 34s 521us/step - loss: 0.5188 - acc: 0.8099 - val_loss: 1.3310 - val_acc: 0.6627\n",
            "Epoch 34/100\n",
            "66228/66228 [==============================] - 35s 523us/step - loss: 0.5164 - acc: 0.8113 - val_loss: 1.3148 - val_acc: 0.6609\n",
            "Epoch 35/100\n",
            "66228/66228 [==============================] - 35s 522us/step - loss: 0.5018 - acc: 0.8196 - val_loss: 1.3545 - val_acc: 0.6549\n",
            "Epoch 36/100\n",
            "66228/66228 [==============================] - 35s 527us/step - loss: 0.5015 - acc: 0.8175 - val_loss: 1.3369 - val_acc: 0.6589\n",
            "Epoch 37/100\n",
            "66228/66228 [==============================] - 35s 524us/step - loss: 0.4924 - acc: 0.8219 - val_loss: 1.4067 - val_acc: 0.6559\n",
            "Epoch 38/100\n",
            "66228/66228 [==============================] - 35s 523us/step - loss: 0.4932 - acc: 0.8215 - val_loss: 1.3895 - val_acc: 0.6628\n",
            "Epoch 39/100\n",
            "66228/66228 [==============================] - 35s 524us/step - loss: 0.4866 - acc: 0.8240 - val_loss: 1.3988 - val_acc: 0.6627\n",
            "Epoch 40/100\n",
            "66228/66228 [==============================] - 35s 522us/step - loss: 0.4812 - acc: 0.8254 - val_loss: 1.4652 - val_acc: 0.6479\n",
            "Epoch 41/100\n",
            "66228/66228 [==============================] - 34s 521us/step - loss: 0.4800 - acc: 0.8281 - val_loss: 1.4302 - val_acc: 0.6543\n",
            "Epoch 42/100\n",
            "66228/66228 [==============================] - 35s 522us/step - loss: 0.4733 - acc: 0.8285 - val_loss: 1.5408 - val_acc: 0.6469\n",
            "Epoch 43/100\n",
            "66228/66228 [==============================] - 34s 521us/step - loss: 0.4663 - acc: 0.8321 - val_loss: 1.5011 - val_acc: 0.6585\n",
            "Epoch 44/100\n",
            "66228/66228 [==============================] - 34s 521us/step - loss: 0.4637 - acc: 0.8322 - val_loss: 1.5420 - val_acc: 0.6480\n",
            "Epoch 45/100\n",
            "66228/66228 [==============================] - 35s 527us/step - loss: 0.4617 - acc: 0.8336 - val_loss: 1.5139 - val_acc: 0.6563\n",
            "Epoch 46/100\n",
            "66228/66228 [==============================] - 34s 520us/step - loss: 0.4559 - acc: 0.8375 - val_loss: 1.5014 - val_acc: 0.6560\n",
            "Epoch 47/100\n",
            "66228/66228 [==============================] - 35s 523us/step - loss: 0.4546 - acc: 0.8366 - val_loss: 1.5970 - val_acc: 0.6434\n",
            "Epoch 48/100\n",
            "66228/66228 [==============================] - 35s 523us/step - loss: 0.4546 - acc: 0.8386 - val_loss: 1.5403 - val_acc: 0.6478\n",
            "Epoch 49/100\n",
            "66228/66228 [==============================] - 34s 520us/step - loss: 0.4442 - acc: 0.8426 - val_loss: 1.5725 - val_acc: 0.6589\n",
            "Epoch 50/100\n",
            "66228/66228 [==============================] - 34s 520us/step - loss: 0.4401 - acc: 0.8431 - val_loss: 1.6517 - val_acc: 0.6487\n",
            "Epoch 51/100\n",
            "66228/66228 [==============================] - 34s 519us/step - loss: 0.4430 - acc: 0.8434 - val_loss: 1.5415 - val_acc: 0.6481\n",
            "Epoch 52/100\n",
            "66228/66228 [==============================] - 34s 521us/step - loss: 0.4355 - acc: 0.8461 - val_loss: 1.6949 - val_acc: 0.6367\n",
            "Epoch 53/100\n",
            "66228/66228 [==============================] - 34s 518us/step - loss: 0.4337 - acc: 0.8480 - val_loss: 1.6516 - val_acc: 0.6524\n",
            "Epoch 54/100\n",
            "66228/66228 [==============================] - 35s 524us/step - loss: 0.4308 - acc: 0.8470 - val_loss: 1.6460 - val_acc: 0.6496\n",
            "Epoch 55/100\n",
            "66228/66228 [==============================] - 34s 519us/step - loss: 0.4261 - acc: 0.8487 - val_loss: 1.6919 - val_acc: 0.6571\n",
            "Epoch 56/100\n",
            "66228/66228 [==============================] - 35s 521us/step - loss: 0.4242 - acc: 0.8504 - val_loss: 1.7612 - val_acc: 0.6378\n",
            "Epoch 57/100\n",
            "66228/66228 [==============================] - 35s 523us/step - loss: 0.4218 - acc: 0.8529 - val_loss: 1.6884 - val_acc: 0.6435\n",
            "Epoch 58/100\n",
            "66228/66228 [==============================] - 35s 522us/step - loss: 0.4184 - acc: 0.8531 - val_loss: 1.7577 - val_acc: 0.6465\n",
            "Epoch 59/100\n",
            "66228/66228 [==============================] - 35s 522us/step - loss: 0.4195 - acc: 0.8519 - val_loss: 1.6457 - val_acc: 0.6475\n",
            "Epoch 60/100\n",
            "66228/66228 [==============================] - 34s 521us/step - loss: 0.4155 - acc: 0.8546 - val_loss: 1.8651 - val_acc: 0.6562\n",
            "Epoch 61/100\n",
            "66228/66228 [==============================] - 34s 519us/step - loss: 0.4147 - acc: 0.8546 - val_loss: 1.8166 - val_acc: 0.6565\n",
            "Epoch 62/100\n",
            "66228/66228 [==============================] - 34s 519us/step - loss: 0.4147 - acc: 0.8543 - val_loss: 1.7343 - val_acc: 0.6516\n",
            "Epoch 63/100\n",
            "66228/66228 [==============================] - 35s 524us/step - loss: 0.4168 - acc: 0.8545 - val_loss: 1.7080 - val_acc: 0.6524\n",
            "Epoch 64/100\n",
            "66228/66228 [==============================] - 34s 518us/step - loss: 0.4078 - acc: 0.8564 - val_loss: 1.8430 - val_acc: 0.6366\n",
            "Epoch 65/100\n",
            "66228/66228 [==============================] - 34s 519us/step - loss: 0.4074 - acc: 0.8600 - val_loss: 1.8544 - val_acc: 0.6372\n",
            "Epoch 66/100\n",
            "66228/66228 [==============================] - 34s 518us/step - loss: 0.4006 - acc: 0.8608 - val_loss: 1.8812 - val_acc: 0.6410\n",
            "Epoch 67/100\n",
            "66228/66228 [==============================] - 34s 517us/step - loss: 0.4060 - acc: 0.8598 - val_loss: 1.8259 - val_acc: 0.6421\n",
            "Epoch 68/100\n",
            "66228/66228 [==============================] - 34s 520us/step - loss: 0.4032 - acc: 0.8607 - val_loss: 1.8206 - val_acc: 0.6514\n",
            "Epoch 69/100\n",
            "66228/66228 [==============================] - 35s 530us/step - loss: 0.4003 - acc: 0.8619 - val_loss: 1.8133 - val_acc: 0.6554\n",
            "Epoch 70/100\n",
            "66228/66228 [==============================] - 35s 524us/step - loss: 0.3945 - acc: 0.8650 - val_loss: 1.8380 - val_acc: 0.6481\n",
            "Epoch 71/100\n",
            "66228/66228 [==============================] - 35s 524us/step - loss: 0.3984 - acc: 0.8632 - val_loss: 1.8385 - val_acc: 0.6517\n",
            "Epoch 72/100\n",
            "66228/66228 [==============================] - 35s 532us/step - loss: 0.3936 - acc: 0.8639 - val_loss: 1.8948 - val_acc: 0.6499\n",
            "Epoch 73/100\n",
            "66228/66228 [==============================] - 34s 520us/step - loss: 0.3939 - acc: 0.8661 - val_loss: 1.8616 - val_acc: 0.6478\n",
            "Epoch 74/100\n",
            "66228/66228 [==============================] - 34s 520us/step - loss: 0.3960 - acc: 0.8652 - val_loss: 1.8934 - val_acc: 0.6460\n",
            "Epoch 75/100\n",
            "66228/66228 [==============================] - 34s 517us/step - loss: 0.3908 - acc: 0.8667 - val_loss: 1.9932 - val_acc: 0.6490\n",
            "Epoch 76/100\n",
            "66228/66228 [==============================] - 35s 521us/step - loss: 0.3903 - acc: 0.8669 - val_loss: 1.9088 - val_acc: 0.6563\n",
            "Epoch 77/100\n",
            "66228/66228 [==============================] - 35s 524us/step - loss: 0.3903 - acc: 0.8664 - val_loss: 2.0010 - val_acc: 0.6450\n",
            "Epoch 78/100\n",
            "66228/66228 [==============================] - 36s 539us/step - loss: 0.3928 - acc: 0.8650 - val_loss: 1.9477 - val_acc: 0.6456\n",
            "Epoch 79/100\n",
            "66228/66228 [==============================] - 35s 526us/step - loss: 0.3861 - acc: 0.8677 - val_loss: 1.9349 - val_acc: 0.6467\n",
            "Epoch 80/100\n",
            "66228/66228 [==============================] - 35s 522us/step - loss: 0.3851 - acc: 0.8693 - val_loss: 2.0365 - val_acc: 0.6538\n",
            "Epoch 81/100\n",
            "66228/66228 [==============================] - 36s 542us/step - loss: 0.3815 - acc: 0.8701 - val_loss: 2.1293 - val_acc: 0.6480\n",
            "Epoch 82/100\n",
            "66228/66228 [==============================] - 36s 537us/step - loss: 0.3818 - acc: 0.8705 - val_loss: 1.9878 - val_acc: 0.6557\n",
            "Epoch 83/100\n",
            "66228/66228 [==============================] - 38s 580us/step - loss: 0.3805 - acc: 0.8712 - val_loss: 2.0497 - val_acc: 0.6461\n",
            "Epoch 84/100\n",
            "66228/66228 [==============================] - 35s 535us/step - loss: 0.3774 - acc: 0.8717 - val_loss: 2.0125 - val_acc: 0.6505\n",
            "Epoch 85/100\n",
            "66228/66228 [==============================] - 35s 531us/step - loss: 0.3756 - acc: 0.8737 - val_loss: 1.9855 - val_acc: 0.6489\n",
            "Epoch 86/100\n",
            "66228/66228 [==============================] - 35s 535us/step - loss: 0.3819 - acc: 0.8716 - val_loss: 1.9466 - val_acc: 0.6409\n",
            "Epoch 87/100\n",
            "66228/66228 [==============================] - 36s 536us/step - loss: 0.3807 - acc: 0.8718 - val_loss: 2.0710 - val_acc: 0.6526\n",
            "Epoch 88/100\n",
            "66228/66228 [==============================] - 37s 565us/step - loss: 0.3786 - acc: 0.8732 - val_loss: 2.0856 - val_acc: 0.6478\n",
            "Epoch 89/100\n",
            "66228/66228 [==============================] - 40s 597us/step - loss: 0.3752 - acc: 0.8724 - val_loss: 2.1123 - val_acc: 0.6483\n",
            "Epoch 90/100\n",
            "66228/66228 [==============================] - 37s 555us/step - loss: 0.3739 - acc: 0.8745 - val_loss: 2.1029 - val_acc: 0.6466\n",
            "Epoch 91/100\n",
            "66228/66228 [==============================] - 35s 530us/step - loss: 0.3745 - acc: 0.8746 - val_loss: 2.0609 - val_acc: 0.6455\n",
            "Epoch 92/100\n",
            "66228/66228 [==============================] - 35s 525us/step - loss: 0.3757 - acc: 0.8752 - val_loss: 2.0298 - val_acc: 0.6499\n",
            "Epoch 93/100\n",
            "66228/66228 [==============================] - 36s 541us/step - loss: 0.3680 - acc: 0.8781 - val_loss: 2.1581 - val_acc: 0.6510\n",
            "Epoch 94/100\n",
            "66228/66228 [==============================] - 36s 542us/step - loss: 0.3689 - acc: 0.8782 - val_loss: 2.1451 - val_acc: 0.6428\n",
            "Epoch 95/100\n",
            "66228/66228 [==============================] - 38s 573us/step - loss: 0.3710 - acc: 0.8771 - val_loss: 2.1252 - val_acc: 0.6514\n",
            "Epoch 96/100\n",
            "66228/66228 [==============================] - 36s 544us/step - loss: 0.3725 - acc: 0.8757 - val_loss: 2.1721 - val_acc: 0.6460\n",
            "Epoch 97/100\n",
            "66228/66228 [==============================] - 35s 536us/step - loss: 0.3637 - acc: 0.8783 - val_loss: 2.1091 - val_acc: 0.6420\n",
            "Epoch 98/100\n",
            "66228/66228 [==============================] - 36s 540us/step - loss: 0.3714 - acc: 0.8765 - val_loss: 2.1066 - val_acc: 0.6452\n",
            "Epoch 99/100\n",
            "66228/66228 [==============================] - 36s 540us/step - loss: 0.3625 - acc: 0.8803 - val_loss: 2.1753 - val_acc: 0.6417\n",
            "Epoch 100/100\n",
            "66228/66228 [==============================] - 37s 555us/step - loss: 0.3632 - acc: 0.8791 - val_loss: 2.1964 - val_acc: 0.6559\n"
          ],
          "name": "stdout"
        },
        {
          "output_type": "execute_result",
          "data": {
            "text/plain": [
              "<keras.callbacks.History at 0x7f4bc09ff710>"
            ]
          },
          "metadata": {
            "tags": []
          },
          "execution_count": 77
        }
      ]
    },
    {
      "cell_type": "markdown",
      "metadata": {
        "id": "vlDtC20PY_zK",
        "colab_type": "text"
      },
      "source": [
        "Training and testing the second subset of data using Neural Networks."
      ]
    },
    {
      "cell_type": "code",
      "metadata": {
        "id": "BPQF9FlbQPcw",
        "colab_type": "code",
        "colab": {}
      },
      "source": [
        "from sklearn.model_selection import train_test_split\n",
        "x_train,x_test = train_test_split(reviews['title'],train_size=0.8,random_state=1)\n",
        "y_train,y_test = train_test_split(reviews['rating'],train_size=0.8,random_state=1)"
      ],
      "execution_count": 0,
      "outputs": []
    },
    {
      "cell_type": "code",
      "metadata": {
        "id": "F1Wkry--zbN0",
        "colab_type": "code",
        "colab": {}
      },
      "source": [
        "tokenizer = Tokenizer(num_words=2000)\n",
        "tokenizer.fit_on_texts(x_train)\n",
        "train_X = pad_sequences(tokenizer.texts_to_sequences(x_train), 33)\n",
        "test_X = pad_sequences(tokenizer.texts_to_sequences(x_test),33)\n",
        "train_Y=keras.utils.to_categorical(y_train)\n",
        "test_Y=keras.utils.to_categorical(y_test)"
      ],
      "execution_count": 0,
      "outputs": []
    },
    {
      "cell_type": "code",
      "metadata": {
        "id": "XaC1W7hNzjXy",
        "colab_type": "code",
        "colab": {}
      },
      "source": [
        "embed_dim = 128\n",
        "lstm_out = 196\n",
        "max_features = 2000\n",
        "model = Sequential()\n",
        "model.add(Embedding(tokenizer.num_words, tokenizer.num_words, input_length=33))\n",
        "model.add(Conv1D(66, kernel_size=3, activation='relu'))\n",
        "model.add(Conv1D(66, kernel_size=3, activation='relu'))\n",
        "model.add(MaxPooling1D(pool_size=2))\n",
        "model.add(Dropout(.5))\n",
        "model.add(Conv1D(33, kernel_size=3, activation='relu'))\n",
        "model.add(MaxPooling1D(pool_size=2))\n",
        "model.add(Flatten())\n",
        "model.add(Dropout(.5))\n",
        "model.add(Dense(6,activation='softmax'))\n",
        "model.compile(loss = 'categorical_crossentropy', optimizer='adam',metrics = ['accuracy'])"
      ],
      "execution_count": 0,
      "outputs": []
    },
    {
      "cell_type": "code",
      "metadata": {
        "id": "8htvZ-X3zncK",
        "colab_type": "code",
        "outputId": "9f45d78d-2567-4455-d999-f8d46a44a163",
        "colab": {
          "base_uri": "https://localhost:8080/",
          "height": 1000
        }
      },
      "source": [
        "batch_size = 32\n",
        "model.fit( train_X,#.reshape((train_X.shape[0], train_X.shape[1],1)), \n",
        "           train_Y,\n",
        "           epochs = 100, \n",
        "           batch_size=batch_size, \n",
        "           verbose = 1, \n",
        "           validation_data=(test_X, test_Y))"
      ],
      "execution_count": 0,
      "outputs": [
        {
          "output_type": "stream",
          "text": [
            "Train on 66228 samples, validate on 16557 samples\n",
            "Epoch 1/100\n",
            "66228/66228 [==============================] - 37s 557us/step - loss: 0.9944 - acc: 0.6566 - val_loss: 0.8749 - val_acc: 0.6884\n",
            "Epoch 2/100\n",
            "66228/66228 [==============================] - 36s 544us/step - loss: 0.8824 - acc: 0.6946 - val_loss: 0.8592 - val_acc: 0.6989\n",
            "Epoch 3/100\n",
            "66228/66228 [==============================] - 36s 546us/step - loss: 0.8565 - acc: 0.7033 - val_loss: 0.8474 - val_acc: 0.7010\n",
            "Epoch 4/100\n",
            "66228/66228 [==============================] - 36s 548us/step - loss: 0.8387 - acc: 0.7093 - val_loss: 0.8445 - val_acc: 0.7010\n",
            "Epoch 5/100\n",
            "66228/66228 [==============================] - 39s 584us/step - loss: 0.8258 - acc: 0.7135 - val_loss: 0.8447 - val_acc: 0.7014\n",
            "Epoch 6/100\n",
            "66228/66228 [==============================] - 38s 571us/step - loss: 0.8147 - acc: 0.7169 - val_loss: 0.8491 - val_acc: 0.7016\n",
            "Epoch 7/100\n",
            "66228/66228 [==============================] - 36s 538us/step - loss: 0.8042 - acc: 0.7206 - val_loss: 0.8574 - val_acc: 0.7021\n",
            "Epoch 8/100\n",
            "66228/66228 [==============================] - 35s 526us/step - loss: 0.7924 - acc: 0.7235 - val_loss: 0.8562 - val_acc: 0.7036\n",
            "Epoch 9/100\n",
            "66228/66228 [==============================] - 36s 540us/step - loss: 0.7826 - acc: 0.7272 - val_loss: 0.8694 - val_acc: 0.7031\n",
            "Epoch 10/100\n",
            "66228/66228 [==============================] - 36s 543us/step - loss: 0.7763 - acc: 0.7291 - val_loss: 0.8819 - val_acc: 0.7027\n",
            "Epoch 11/100\n",
            "66228/66228 [==============================] - 38s 573us/step - loss: 0.7682 - acc: 0.7322 - val_loss: 0.8774 - val_acc: 0.7021\n",
            "Epoch 12/100\n",
            "66228/66228 [==============================] - 36s 545us/step - loss: 0.7598 - acc: 0.7347 - val_loss: 0.8928 - val_acc: 0.6977\n",
            "Epoch 13/100\n",
            "66228/66228 [==============================] - 36s 545us/step - loss: 0.7511 - acc: 0.7380 - val_loss: 0.8940 - val_acc: 0.7013\n",
            "Epoch 14/100\n",
            "66228/66228 [==============================] - 36s 541us/step - loss: 0.7399 - acc: 0.7417 - val_loss: 0.9061 - val_acc: 0.7016\n",
            "Epoch 15/100\n",
            "66228/66228 [==============================] - 36s 543us/step - loss: 0.7402 - acc: 0.7421 - val_loss: 0.9067 - val_acc: 0.7002\n",
            "Epoch 16/100\n",
            "66228/66228 [==============================] - 38s 578us/step - loss: 0.7328 - acc: 0.7451 - val_loss: 0.9427 - val_acc: 0.6982\n",
            "Epoch 17/100\n",
            "66228/66228 [==============================] - 38s 575us/step - loss: 0.7250 - acc: 0.7471 - val_loss: 0.9521 - val_acc: 0.6977\n",
            "Epoch 18/100\n",
            "66228/66228 [==============================] - 36s 540us/step - loss: 0.7166 - acc: 0.7506 - val_loss: 0.9762 - val_acc: 0.6989\n",
            "Epoch 19/100\n",
            "66228/66228 [==============================] - 35s 527us/step - loss: 0.7131 - acc: 0.7509 - val_loss: 0.9509 - val_acc: 0.6980\n",
            "Epoch 20/100\n",
            "66228/66228 [==============================] - 36s 536us/step - loss: 0.7076 - acc: 0.7538 - val_loss: 0.9794 - val_acc: 0.6995\n",
            "Epoch 21/100\n",
            "66228/66228 [==============================] - 36s 546us/step - loss: 0.7009 - acc: 0.7554 - val_loss: 0.9859 - val_acc: 0.6996\n",
            "Epoch 22/100\n",
            "66228/66228 [==============================] - 37s 564us/step - loss: 0.6956 - acc: 0.7588 - val_loss: 1.0114 - val_acc: 0.6956\n",
            "Epoch 23/100\n",
            "66228/66228 [==============================] - 37s 553us/step - loss: 0.6946 - acc: 0.7579 - val_loss: 0.9934 - val_acc: 0.6977\n",
            "Epoch 24/100\n",
            "66228/66228 [==============================] - 36s 543us/step - loss: 0.6874 - acc: 0.7616 - val_loss: 1.0498 - val_acc: 0.6975\n",
            "Epoch 25/100\n",
            "66228/66228 [==============================] - 36s 543us/step - loss: 0.6876 - acc: 0.7620 - val_loss: 1.0428 - val_acc: 0.6964\n",
            "Epoch 26/100\n",
            "66228/66228 [==============================] - 36s 544us/step - loss: 0.6804 - acc: 0.7643 - val_loss: 1.0212 - val_acc: 0.6967\n",
            "Epoch 27/100\n",
            "66228/66228 [==============================] - 37s 564us/step - loss: 0.6788 - acc: 0.7643 - val_loss: 1.0566 - val_acc: 0.6893\n",
            "Epoch 28/100\n",
            "66228/66228 [==============================] - 39s 587us/step - loss: 0.6702 - acc: 0.7665 - val_loss: 1.0874 - val_acc: 0.6950\n",
            "Epoch 29/100\n",
            "66228/66228 [==============================] - 36s 542us/step - loss: 0.6661 - acc: 0.7703 - val_loss: 1.0868 - val_acc: 0.6961\n",
            "Epoch 30/100\n",
            "66228/66228 [==============================] - 35s 521us/step - loss: 0.6674 - acc: 0.7701 - val_loss: 1.0520 - val_acc: 0.6952\n",
            "Epoch 31/100\n",
            "66228/66228 [==============================] - 35s 523us/step - loss: 0.6612 - acc: 0.7722 - val_loss: 1.1001 - val_acc: 0.6921\n",
            "Epoch 32/100\n",
            "66228/66228 [==============================] - 35s 525us/step - loss: 0.6582 - acc: 0.7733 - val_loss: 1.1151 - val_acc: 0.6931\n",
            "Epoch 33/100\n",
            "66228/66228 [==============================] - 35s 522us/step - loss: 0.6583 - acc: 0.7745 - val_loss: 1.1243 - val_acc: 0.6943\n",
            "Epoch 34/100\n",
            "66228/66228 [==============================] - 35s 524us/step - loss: 0.6578 - acc: 0.7754 - val_loss: 1.1747 - val_acc: 0.6946\n",
            "Epoch 35/100\n",
            "66228/66228 [==============================] - 35s 523us/step - loss: 0.6557 - acc: 0.7745 - val_loss: 1.1588 - val_acc: 0.6917\n",
            "Epoch 36/100\n",
            "66228/66228 [==============================] - 35s 525us/step - loss: 0.6469 - acc: 0.7789 - val_loss: 1.1337 - val_acc: 0.6962\n",
            "Epoch 37/100\n",
            "66228/66228 [==============================] - 35s 527us/step - loss: 0.6454 - acc: 0.7787 - val_loss: 1.1409 - val_acc: 0.6919\n",
            "Epoch 38/100\n",
            "66228/66228 [==============================] - 35s 528us/step - loss: 0.6440 - acc: 0.7787 - val_loss: 1.1952 - val_acc: 0.6925\n",
            "Epoch 39/100\n",
            "66228/66228 [==============================] - 35s 524us/step - loss: 0.6386 - acc: 0.7813 - val_loss: 1.1653 - val_acc: 0.6932\n",
            "Epoch 40/100\n",
            "66228/66228 [==============================] - 35s 526us/step - loss: 0.6403 - acc: 0.7813 - val_loss: 1.2040 - val_acc: 0.6917\n",
            "Epoch 41/100\n",
            "66228/66228 [==============================] - 35s 524us/step - loss: 0.6372 - acc: 0.7830 - val_loss: 1.2173 - val_acc: 0.6959\n",
            "Epoch 42/100\n",
            "66228/66228 [==============================] - 35s 532us/step - loss: 0.6334 - acc: 0.7854 - val_loss: 1.2167 - val_acc: 0.6930\n",
            "Epoch 43/100\n",
            "66228/66228 [==============================] - 36s 551us/step - loss: 0.6276 - acc: 0.7864 - val_loss: 1.2216 - val_acc: 0.6957\n",
            "Epoch 44/100\n",
            "66228/66228 [==============================] - 36s 549us/step - loss: 0.6256 - acc: 0.7860 - val_loss: 1.2516 - val_acc: 0.6943\n",
            "Epoch 45/100\n",
            "66228/66228 [==============================] - 37s 557us/step - loss: 0.6302 - acc: 0.7867 - val_loss: 1.1721 - val_acc: 0.6948\n",
            "Epoch 46/100\n",
            "66228/66228 [==============================] - 37s 551us/step - loss: 0.6223 - acc: 0.7893 - val_loss: 1.2791 - val_acc: 0.6926\n",
            "Epoch 47/100\n",
            "66228/66228 [==============================] - 37s 559us/step - loss: 0.6281 - acc: 0.7882 - val_loss: 1.2719 - val_acc: 0.6919\n",
            "Epoch 48/100\n",
            "66228/66228 [==============================] - 35s 529us/step - loss: 0.6238 - acc: 0.7887 - val_loss: 1.2778 - val_acc: 0.6909\n",
            "Epoch 49/100\n",
            "66228/66228 [==============================] - 35s 527us/step - loss: 0.6211 - acc: 0.7886 - val_loss: 1.2563 - val_acc: 0.6924\n",
            "Epoch 50/100\n",
            "66228/66228 [==============================] - 35s 529us/step - loss: 0.6179 - acc: 0.7908 - val_loss: 1.3138 - val_acc: 0.6870\n",
            "Epoch 51/100\n",
            "66228/66228 [==============================] - 35s 525us/step - loss: 0.6206 - acc: 0.7894 - val_loss: 1.2565 - val_acc: 0.6926\n",
            "Epoch 52/100\n",
            "66228/66228 [==============================] - 35s 527us/step - loss: 0.6145 - acc: 0.7912 - val_loss: 1.3019 - val_acc: 0.6926\n",
            "Epoch 53/100\n",
            "66228/66228 [==============================] - 35s 527us/step - loss: 0.6118 - acc: 0.7915 - val_loss: 1.3060 - val_acc: 0.6920\n",
            "Epoch 54/100\n",
            "66228/66228 [==============================] - 35s 528us/step - loss: 0.6126 - acc: 0.7925 - val_loss: 1.3065 - val_acc: 0.6936\n",
            "Epoch 55/100\n",
            "66228/66228 [==============================] - 35s 526us/step - loss: 0.6161 - acc: 0.7922 - val_loss: 1.3041 - val_acc: 0.6899\n",
            "Epoch 56/100\n",
            "66228/66228 [==============================] - 35s 530us/step - loss: 0.6092 - acc: 0.7946 - val_loss: 1.3503 - val_acc: 0.6917\n",
            "Epoch 57/100\n",
            "66228/66228 [==============================] - 35s 533us/step - loss: 0.6057 - acc: 0.7951 - val_loss: 1.3487 - val_acc: 0.6898\n",
            "Epoch 58/100\n",
            "66228/66228 [==============================] - 36s 551us/step - loss: 0.6099 - acc: 0.7937 - val_loss: 1.3748 - val_acc: 0.6923\n",
            "Epoch 59/100\n",
            "66228/66228 [==============================] - 36s 550us/step - loss: 0.6073 - acc: 0.7960 - val_loss: 1.3717 - val_acc: 0.6886\n",
            "Epoch 60/100\n",
            "66228/66228 [==============================] - 36s 548us/step - loss: 0.6061 - acc: 0.7964 - val_loss: 1.4102 - val_acc: 0.6902\n",
            "Epoch 61/100\n",
            "66228/66228 [==============================] - 36s 544us/step - loss: 0.6030 - acc: 0.7980 - val_loss: 1.3876 - val_acc: 0.6893\n",
            "Epoch 62/100\n",
            "66228/66228 [==============================] - 36s 548us/step - loss: 0.6053 - acc: 0.7978 - val_loss: 1.3867 - val_acc: 0.6906\n",
            "Epoch 63/100\n",
            "66228/66228 [==============================] - 35s 527us/step - loss: 0.6004 - acc: 0.7982 - val_loss: 1.3634 - val_acc: 0.6919\n",
            "Epoch 64/100\n",
            "66228/66228 [==============================] - 35s 529us/step - loss: 0.5999 - acc: 0.7997 - val_loss: 1.4157 - val_acc: 0.6869\n",
            "Epoch 65/100\n",
            "66228/66228 [==============================] - 35s 526us/step - loss: 0.6020 - acc: 0.7970 - val_loss: 1.4147 - val_acc: 0.6931\n",
            "Epoch 66/100\n",
            "66228/66228 [==============================] - 35s 521us/step - loss: 0.5989 - acc: 0.8000 - val_loss: 1.4546 - val_acc: 0.6860\n",
            "Epoch 67/100\n",
            "66228/66228 [==============================] - 35s 532us/step - loss: 0.5973 - acc: 0.8007 - val_loss: 1.4078 - val_acc: 0.6862\n",
            "Epoch 68/100\n",
            "66228/66228 [==============================] - 35s 531us/step - loss: 0.5951 - acc: 0.8015 - val_loss: 1.3983 - val_acc: 0.6880\n",
            "Epoch 69/100\n",
            "66228/66228 [==============================] - 35s 535us/step - loss: 0.5984 - acc: 0.8019 - val_loss: 1.4210 - val_acc: 0.6903\n",
            "Epoch 70/100\n",
            "66228/66228 [==============================] - 35s 534us/step - loss: 0.5956 - acc: 0.8010 - val_loss: 1.4237 - val_acc: 0.6880\n",
            "Epoch 71/100\n",
            "66228/66228 [==============================] - 35s 533us/step - loss: 0.5902 - acc: 0.8032 - val_loss: 1.4363 - val_acc: 0.6883\n",
            "Epoch 72/100\n",
            "66228/66228 [==============================] - 35s 535us/step - loss: 0.5939 - acc: 0.8015 - val_loss: 1.4307 - val_acc: 0.6908\n",
            "Epoch 73/100\n",
            "66228/66228 [==============================] - 36s 540us/step - loss: 0.5892 - acc: 0.8034 - val_loss: 1.4516 - val_acc: 0.6891\n",
            "Epoch 74/100\n",
            "66228/66228 [==============================] - 35s 532us/step - loss: 0.5904 - acc: 0.8038 - val_loss: 1.4446 - val_acc: 0.6951\n",
            "Epoch 75/100\n",
            "66228/66228 [==============================] - 36s 537us/step - loss: 0.5902 - acc: 0.8039 - val_loss: 1.4612 - val_acc: 0.6878\n",
            "Epoch 76/100\n",
            "66228/66228 [==============================] - 35s 521us/step - loss: 0.5857 - acc: 0.8051 - val_loss: 1.4457 - val_acc: 0.6883\n",
            "Epoch 77/100\n",
            "66228/66228 [==============================] - 35s 527us/step - loss: 0.5916 - acc: 0.8031 - val_loss: 1.4562 - val_acc: 0.6929\n",
            "Epoch 78/100\n",
            "66228/66228 [==============================] - 35s 530us/step - loss: 0.5802 - acc: 0.8062 - val_loss: 1.4478 - val_acc: 0.6874\n",
            "Epoch 79/100\n",
            "66228/66228 [==============================] - 35s 524us/step - loss: 0.5883 - acc: 0.8050 - val_loss: 1.4670 - val_acc: 0.6910\n",
            "Epoch 80/100\n",
            "66228/66228 [==============================] - 35s 536us/step - loss: 0.5836 - acc: 0.8046 - val_loss: 1.4890 - val_acc: 0.6923\n",
            "Epoch 81/100\n",
            "66228/66228 [==============================] - 35s 535us/step - loss: 0.5845 - acc: 0.8064 - val_loss: 1.5188 - val_acc: 0.6880\n",
            "Epoch 82/100\n",
            "66228/66228 [==============================] - 35s 526us/step - loss: 0.5856 - acc: 0.8053 - val_loss: 1.5220 - val_acc: 0.6905\n",
            "Epoch 83/100\n",
            "66228/66228 [==============================] - 35s 528us/step - loss: 0.5813 - acc: 0.8072 - val_loss: 1.4873 - val_acc: 0.6856\n",
            "Epoch 84/100\n",
            "66228/66228 [==============================] - 36s 540us/step - loss: 0.5829 - acc: 0.8078 - val_loss: 1.5439 - val_acc: 0.6879\n",
            "Epoch 85/100\n",
            "66228/66228 [==============================] - 35s 524us/step - loss: 0.5838 - acc: 0.8067 - val_loss: 1.5083 - val_acc: 0.6859\n",
            "Epoch 86/100\n",
            "66228/66228 [==============================] - 35s 528us/step - loss: 0.5821 - acc: 0.8077 - val_loss: 1.5192 - val_acc: 0.6887\n",
            "Epoch 87/100\n",
            "66228/66228 [==============================] - 35s 531us/step - loss: 0.5795 - acc: 0.8075 - val_loss: 1.5613 - val_acc: 0.6878\n",
            "Epoch 88/100\n",
            "66228/66228 [==============================] - 35s 533us/step - loss: 0.5848 - acc: 0.8065 - val_loss: 1.5584 - val_acc: 0.6833\n",
            "Epoch 89/100\n",
            "66228/66228 [==============================] - 35s 524us/step - loss: 0.5797 - acc: 0.8083 - val_loss: 1.5153 - val_acc: 0.6893\n",
            "Epoch 90/100\n",
            "66228/66228 [==============================] - 35s 531us/step - loss: 0.5809 - acc: 0.8086 - val_loss: 1.5052 - val_acc: 0.6897\n",
            "Epoch 91/100\n",
            "66228/66228 [==============================] - 36s 539us/step - loss: 0.5774 - acc: 0.8094 - val_loss: 1.5706 - val_acc: 0.6871\n",
            "Epoch 92/100\n",
            "66228/66228 [==============================] - 35s 522us/step - loss: 0.5771 - acc: 0.8085 - val_loss: 1.5485 - val_acc: 0.6878\n",
            "Epoch 93/100\n",
            "66228/66228 [==============================] - 35s 524us/step - loss: 0.5869 - acc: 0.8069 - val_loss: 1.5569 - val_acc: 0.6875\n",
            "Epoch 94/100\n",
            "66228/66228 [==============================] - 35s 531us/step - loss: 0.5800 - acc: 0.8103 - val_loss: 1.5827 - val_acc: 0.6880\n",
            "Epoch 95/100\n",
            "66228/66228 [==============================] - 35s 532us/step - loss: 0.5738 - acc: 0.8105 - val_loss: 1.5625 - val_acc: 0.6908\n",
            "Epoch 96/100\n",
            "66228/66228 [==============================] - 35s 526us/step - loss: 0.5734 - acc: 0.8111 - val_loss: 1.5991 - val_acc: 0.6864\n",
            "Epoch 97/100\n",
            "66228/66228 [==============================] - 35s 535us/step - loss: 0.5785 - acc: 0.8090 - val_loss: 1.5543 - val_acc: 0.6897\n",
            "Epoch 98/100\n",
            "66228/66228 [==============================] - 35s 534us/step - loss: 0.5759 - acc: 0.8105 - val_loss: 1.5913 - val_acc: 0.6899\n",
            "Epoch 99/100\n",
            "66228/66228 [==============================] - 35s 523us/step - loss: 0.5713 - acc: 0.8104 - val_loss: 1.5826 - val_acc: 0.6894\n",
            "Epoch 100/100\n",
            "66228/66228 [==============================] - 35s 535us/step - loss: 0.5712 - acc: 0.8110 - val_loss: 1.6293 - val_acc: 0.6900\n"
          ],
          "name": "stdout"
        },
        {
          "output_type": "execute_result",
          "data": {
            "text/plain": [
              "<keras.callbacks.History at 0x7f4bc0d3eb00>"
            ]
          },
          "metadata": {
            "tags": []
          },
          "execution_count": 82
        }
      ]
    }
  ]
}